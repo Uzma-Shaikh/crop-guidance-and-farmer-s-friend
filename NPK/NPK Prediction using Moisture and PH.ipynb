{
 "cells": [
  {
   "cell_type": "code",
   "execution_count": 1,
   "id": "05ae3b9f",
   "metadata": {},
   "outputs": [],
   "source": [
    "from sklearn.ensemble import AdaBoostClassifier \n",
    "from sklearn.tree import DecisionTreeClassifier\n",
    "import pandas as pd\n",
    "from sklearn.ensemble import AdaBoostClassifier\n",
    "from sklearn.tree import DecisionTreeClassifier\n",
    "from sklearn import metrics\n",
    "from sklearn.tree import DecisionTreeClassifier\n",
    "from sklearn.model_selection import train_test_split\n",
    "from sklearn.metrics import roc_curve,roc_auc_score,f1_score\n",
    "from sklearn.ensemble import RandomForestClassifier\n",
    "from sklearn.metrics import confusion_matrix\n",
    "from sklearn.metrics import accuracy_score\n",
    "from sklearn.metrics import roc_curve\n",
    "from sklearn.metrics import f1_score\n",
    "from sklearn.metrics import precision_score,recall_score\n",
    "from sklearn.metrics import roc_auc_score,roc_curve\n",
    "import pandas as pd\n",
    "import numpy as np\n",
    "from sklearn.model_selection import train_test_split\n",
    "from sklearn.metrics import confusion_matrix\n",
    "import pickle\n",
    "from sklearn.preprocessing import LabelEncoder"
   ]
  },
  {
   "cell_type": "code",
   "execution_count": 2,
   "id": "d70f8299",
   "metadata": {},
   "outputs": [
    {
     "data": {
      "text/html": [
       "<div>\n",
       "<style scoped>\n",
       "    .dataframe tbody tr th:only-of-type {\n",
       "        vertical-align: middle;\n",
       "    }\n",
       "\n",
       "    .dataframe tbody tr th {\n",
       "        vertical-align: top;\n",
       "    }\n",
       "\n",
       "    .dataframe thead th {\n",
       "        text-align: right;\n",
       "    }\n",
       "</style>\n",
       "<table border=\"1\" class=\"dataframe\">\n",
       "  <thead>\n",
       "    <tr style=\"text-align: right;\">\n",
       "      <th></th>\n",
       "      <th>Temparature</th>\n",
       "      <th>Humidity</th>\n",
       "      <th>Moisture</th>\n",
       "      <th>Soil Type</th>\n",
       "      <th>Crop Type</th>\n",
       "      <th>Nitrogen</th>\n",
       "      <th>Potassium</th>\n",
       "      <th>Phosphorous</th>\n",
       "      <th>Fertilizer Name</th>\n",
       "    </tr>\n",
       "  </thead>\n",
       "  <tbody>\n",
       "    <tr>\n",
       "      <th>0</th>\n",
       "      <td>26</td>\n",
       "      <td>52</td>\n",
       "      <td>38</td>\n",
       "      <td>Sandy</td>\n",
       "      <td>Maize</td>\n",
       "      <td>37</td>\n",
       "      <td>0</td>\n",
       "      <td>0</td>\n",
       "      <td>Urea</td>\n",
       "    </tr>\n",
       "  </tbody>\n",
       "</table>\n",
       "</div>"
      ],
      "text/plain": [
       "   Temparature  Humidity   Moisture Soil Type Crop Type  Nitrogen  Potassium  \\\n",
       "0           26         52        38     Sandy     Maize        37          0   \n",
       "\n",
       "   Phosphorous Fertilizer Name  \n",
       "0            0            Urea  "
      ]
     },
     "execution_count": 2,
     "metadata": {},
     "output_type": "execute_result"
    }
   ],
   "source": [
    "ferti=pd.read_csv(\"FertilizerPrediction.csv\",encoding ='latin1')\n",
    "ferti.head(1)"
   ]
  },
  {
   "cell_type": "code",
   "execution_count": 3,
   "id": "9d5fbf25",
   "metadata": {},
   "outputs": [],
   "source": [
    "import random\n",
    "lst=[]\n",
    "for i in range(101):\n",
    "    n=random.randint(2,11)\n",
    "    lst.append(n)"
   ]
  },
  {
   "cell_type": "code",
   "execution_count": 4,
   "id": "57bb67bf",
   "metadata": {},
   "outputs": [],
   "source": [
    "df1=pd.DataFrame(lst,columns=['ph-value'])"
   ]
  },
  {
   "cell_type": "code",
   "execution_count": 5,
   "id": "a368fbc7",
   "metadata": {},
   "outputs": [
    {
     "data": {
      "text/html": [
       "<div>\n",
       "<style scoped>\n",
       "    .dataframe tbody tr th:only-of-type {\n",
       "        vertical-align: middle;\n",
       "    }\n",
       "\n",
       "    .dataframe tbody tr th {\n",
       "        vertical-align: top;\n",
       "    }\n",
       "\n",
       "    .dataframe thead th {\n",
       "        text-align: right;\n",
       "    }\n",
       "</style>\n",
       "<table border=\"1\" class=\"dataframe\">\n",
       "  <thead>\n",
       "    <tr style=\"text-align: right;\">\n",
       "      <th></th>\n",
       "      <th>Temparature</th>\n",
       "      <th>Humidity</th>\n",
       "      <th>Moisture</th>\n",
       "      <th>Soil Type</th>\n",
       "      <th>Crop Type</th>\n",
       "      <th>Nitrogen</th>\n",
       "      <th>Potassium</th>\n",
       "      <th>Phosphorous</th>\n",
       "      <th>Fertilizer Name</th>\n",
       "      <th>ph-value</th>\n",
       "    </tr>\n",
       "  </thead>\n",
       "  <tbody>\n",
       "    <tr>\n",
       "      <th>0</th>\n",
       "      <td>26</td>\n",
       "      <td>52</td>\n",
       "      <td>38</td>\n",
       "      <td>Sandy</td>\n",
       "      <td>Maize</td>\n",
       "      <td>37</td>\n",
       "      <td>0</td>\n",
       "      <td>0</td>\n",
       "      <td>Urea</td>\n",
       "      <td>6</td>\n",
       "    </tr>\n",
       "    <tr>\n",
       "      <th>1</th>\n",
       "      <td>29</td>\n",
       "      <td>52</td>\n",
       "      <td>45</td>\n",
       "      <td>Loamy</td>\n",
       "      <td>Sugarcane</td>\n",
       "      <td>12</td>\n",
       "      <td>0</td>\n",
       "      <td>36</td>\n",
       "      <td>DAP</td>\n",
       "      <td>7</td>\n",
       "    </tr>\n",
       "    <tr>\n",
       "      <th>2</th>\n",
       "      <td>34</td>\n",
       "      <td>65</td>\n",
       "      <td>62</td>\n",
       "      <td>Black</td>\n",
       "      <td>Cotton</td>\n",
       "      <td>7</td>\n",
       "      <td>9</td>\n",
       "      <td>30</td>\n",
       "      <td>14-35-14</td>\n",
       "      <td>11</td>\n",
       "    </tr>\n",
       "    <tr>\n",
       "      <th>3</th>\n",
       "      <td>32</td>\n",
       "      <td>62</td>\n",
       "      <td>34</td>\n",
       "      <td>Red</td>\n",
       "      <td>Tobacco</td>\n",
       "      <td>22</td>\n",
       "      <td>0</td>\n",
       "      <td>20</td>\n",
       "      <td>28-28</td>\n",
       "      <td>3</td>\n",
       "    </tr>\n",
       "    <tr>\n",
       "      <th>4</th>\n",
       "      <td>28</td>\n",
       "      <td>54</td>\n",
       "      <td>46</td>\n",
       "      <td>Clayey</td>\n",
       "      <td>Paddy</td>\n",
       "      <td>35</td>\n",
       "      <td>0</td>\n",
       "      <td>0</td>\n",
       "      <td>Urea</td>\n",
       "      <td>6</td>\n",
       "    </tr>\n",
       "    <tr>\n",
       "      <th>...</th>\n",
       "      <td>...</td>\n",
       "      <td>...</td>\n",
       "      <td>...</td>\n",
       "      <td>...</td>\n",
       "      <td>...</td>\n",
       "      <td>...</td>\n",
       "      <td>...</td>\n",
       "      <td>...</td>\n",
       "      <td>...</td>\n",
       "      <td>...</td>\n",
       "    </tr>\n",
       "    <tr>\n",
       "      <th>94</th>\n",
       "      <td>25</td>\n",
       "      <td>50</td>\n",
       "      <td>32</td>\n",
       "      <td>Clayey</td>\n",
       "      <td>Pulses</td>\n",
       "      <td>24</td>\n",
       "      <td>0</td>\n",
       "      <td>19</td>\n",
       "      <td>28-28</td>\n",
       "      <td>4</td>\n",
       "    </tr>\n",
       "    <tr>\n",
       "      <th>95</th>\n",
       "      <td>30</td>\n",
       "      <td>60</td>\n",
       "      <td>27</td>\n",
       "      <td>Red</td>\n",
       "      <td>Tobacco</td>\n",
       "      <td>4</td>\n",
       "      <td>17</td>\n",
       "      <td>17</td>\n",
       "      <td>10-26-26</td>\n",
       "      <td>4</td>\n",
       "    </tr>\n",
       "    <tr>\n",
       "      <th>96</th>\n",
       "      <td>38</td>\n",
       "      <td>72</td>\n",
       "      <td>51</td>\n",
       "      <td>Loamy</td>\n",
       "      <td>Wheat</td>\n",
       "      <td>39</td>\n",
       "      <td>0</td>\n",
       "      <td>0</td>\n",
       "      <td>Urea</td>\n",
       "      <td>10</td>\n",
       "    </tr>\n",
       "    <tr>\n",
       "      <th>97</th>\n",
       "      <td>36</td>\n",
       "      <td>60</td>\n",
       "      <td>43</td>\n",
       "      <td>Sandy</td>\n",
       "      <td>Millets</td>\n",
       "      <td>15</td>\n",
       "      <td>0</td>\n",
       "      <td>41</td>\n",
       "      <td>DAP</td>\n",
       "      <td>11</td>\n",
       "    </tr>\n",
       "    <tr>\n",
       "      <th>98</th>\n",
       "      <td>29</td>\n",
       "      <td>58</td>\n",
       "      <td>57</td>\n",
       "      <td>Black</td>\n",
       "      <td>Sugarcane</td>\n",
       "      <td>12</td>\n",
       "      <td>0</td>\n",
       "      <td>10</td>\n",
       "      <td>20-20</td>\n",
       "      <td>9</td>\n",
       "    </tr>\n",
       "  </tbody>\n",
       "</table>\n",
       "<p>99 rows × 10 columns</p>\n",
       "</div>"
      ],
      "text/plain": [
       "    Temparature  Humidity   Moisture Soil Type  Crop Type  Nitrogen  \\\n",
       "0            26         52        38     Sandy      Maize        37   \n",
       "1            29         52        45     Loamy  Sugarcane        12   \n",
       "2            34         65        62     Black     Cotton         7   \n",
       "3            32         62        34       Red    Tobacco        22   \n",
       "4            28         54        46    Clayey      Paddy        35   \n",
       "..          ...        ...       ...       ...        ...       ...   \n",
       "94           25         50        32    Clayey     Pulses        24   \n",
       "95           30         60        27       Red    Tobacco         4   \n",
       "96           38         72        51     Loamy      Wheat        39   \n",
       "97           36         60        43     Sandy    Millets        15   \n",
       "98           29         58        57     Black  Sugarcane        12   \n",
       "\n",
       "    Potassium  Phosphorous Fertilizer Name  ph-value  \n",
       "0           0            0            Urea         6  \n",
       "1           0           36             DAP         7  \n",
       "2           9           30        14-35-14        11  \n",
       "3           0           20           28-28         3  \n",
       "4           0            0            Urea         6  \n",
       "..        ...          ...             ...       ...  \n",
       "94          0           19           28-28         4  \n",
       "95         17           17        10-26-26         4  \n",
       "96          0            0            Urea        10  \n",
       "97          0           41             DAP        11  \n",
       "98          0           10           20-20         9  \n",
       "\n",
       "[99 rows x 10 columns]"
      ]
     },
     "execution_count": 5,
     "metadata": {},
     "output_type": "execute_result"
    }
   ],
   "source": [
    "new_df=ferti.join(df1)\n",
    "new_df"
   ]
  },
  {
   "cell_type": "code",
   "execution_count": 6,
   "id": "c6d51a3b",
   "metadata": {},
   "outputs": [
    {
     "data": {
      "text/html": [
       "<div>\n",
       "<style scoped>\n",
       "    .dataframe tbody tr th:only-of-type {\n",
       "        vertical-align: middle;\n",
       "    }\n",
       "\n",
       "    .dataframe tbody tr th {\n",
       "        vertical-align: top;\n",
       "    }\n",
       "\n",
       "    .dataframe thead th {\n",
       "        text-align: right;\n",
       "    }\n",
       "</style>\n",
       "<table border=\"1\" class=\"dataframe\">\n",
       "  <thead>\n",
       "    <tr style=\"text-align: right;\">\n",
       "      <th></th>\n",
       "      <th>Moisture</th>\n",
       "      <th>ph-value</th>\n",
       "      <th>Nitrogen</th>\n",
       "      <th>Potassium</th>\n",
       "      <th>Phosphorous</th>\n",
       "    </tr>\n",
       "  </thead>\n",
       "  <tbody>\n",
       "    <tr>\n",
       "      <th>0</th>\n",
       "      <td>38</td>\n",
       "      <td>6</td>\n",
       "      <td>37</td>\n",
       "      <td>0</td>\n",
       "      <td>0</td>\n",
       "    </tr>\n",
       "    <tr>\n",
       "      <th>1</th>\n",
       "      <td>45</td>\n",
       "      <td>7</td>\n",
       "      <td>12</td>\n",
       "      <td>0</td>\n",
       "      <td>36</td>\n",
       "    </tr>\n",
       "    <tr>\n",
       "      <th>2</th>\n",
       "      <td>62</td>\n",
       "      <td>11</td>\n",
       "      <td>7</td>\n",
       "      <td>9</td>\n",
       "      <td>30</td>\n",
       "    </tr>\n",
       "    <tr>\n",
       "      <th>3</th>\n",
       "      <td>34</td>\n",
       "      <td>3</td>\n",
       "      <td>22</td>\n",
       "      <td>0</td>\n",
       "      <td>20</td>\n",
       "    </tr>\n",
       "    <tr>\n",
       "      <th>4</th>\n",
       "      <td>46</td>\n",
       "      <td>6</td>\n",
       "      <td>35</td>\n",
       "      <td>0</td>\n",
       "      <td>0</td>\n",
       "    </tr>\n",
       "    <tr>\n",
       "      <th>...</th>\n",
       "      <td>...</td>\n",
       "      <td>...</td>\n",
       "      <td>...</td>\n",
       "      <td>...</td>\n",
       "      <td>...</td>\n",
       "    </tr>\n",
       "    <tr>\n",
       "      <th>94</th>\n",
       "      <td>32</td>\n",
       "      <td>4</td>\n",
       "      <td>24</td>\n",
       "      <td>0</td>\n",
       "      <td>19</td>\n",
       "    </tr>\n",
       "    <tr>\n",
       "      <th>95</th>\n",
       "      <td>27</td>\n",
       "      <td>4</td>\n",
       "      <td>4</td>\n",
       "      <td>17</td>\n",
       "      <td>17</td>\n",
       "    </tr>\n",
       "    <tr>\n",
       "      <th>96</th>\n",
       "      <td>51</td>\n",
       "      <td>10</td>\n",
       "      <td>39</td>\n",
       "      <td>0</td>\n",
       "      <td>0</td>\n",
       "    </tr>\n",
       "    <tr>\n",
       "      <th>97</th>\n",
       "      <td>43</td>\n",
       "      <td>11</td>\n",
       "      <td>15</td>\n",
       "      <td>0</td>\n",
       "      <td>41</td>\n",
       "    </tr>\n",
       "    <tr>\n",
       "      <th>98</th>\n",
       "      <td>57</td>\n",
       "      <td>9</td>\n",
       "      <td>12</td>\n",
       "      <td>0</td>\n",
       "      <td>10</td>\n",
       "    </tr>\n",
       "  </tbody>\n",
       "</table>\n",
       "<p>99 rows × 5 columns</p>\n",
       "</div>"
      ],
      "text/plain": [
       "    Moisture  ph-value  Nitrogen  Potassium  Phosphorous\n",
       "0         38         6        37          0            0\n",
       "1         45         7        12          0           36\n",
       "2         62        11         7          9           30\n",
       "3         34         3        22          0           20\n",
       "4         46         6        35          0            0\n",
       "..       ...       ...       ...        ...          ...\n",
       "94        32         4        24          0           19\n",
       "95        27         4         4         17           17\n",
       "96        51        10        39          0            0\n",
       "97        43        11        15          0           41\n",
       "98        57         9        12          0           10\n",
       "\n",
       "[99 rows x 5 columns]"
      ]
     },
     "execution_count": 6,
     "metadata": {},
     "output_type": "execute_result"
    }
   ],
   "source": [
    "df=new_df[['Moisture','ph-value','Nitrogen','Potassium','Phosphorous']]\n",
    "df"
   ]
  },
  {
   "cell_type": "code",
   "execution_count": 7,
   "id": "8dd17055",
   "metadata": {},
   "outputs": [],
   "source": [
    "df.to_csv(\"MoisturePHdataset.csv\")"
   ]
  },
  {
   "cell_type": "code",
   "execution_count": 8,
   "id": "e3ef8825",
   "metadata": {},
   "outputs": [],
   "source": [
    "data=np.asarray(df)\n",
    "x=data[:,0:2]\n",
    "y=data[:,2:3]\n",
    "y1=data[:,3:4]\n",
    "y2=data[:,4:5]"
   ]
  },
  {
   "cell_type": "code",
   "execution_count": 9,
   "id": "4f863f8d",
   "metadata": {},
   "outputs": [
    {
     "data": {
      "text/plain": [
       "array([38,  6], dtype=int64)"
      ]
     },
     "execution_count": 9,
     "metadata": {},
     "output_type": "execute_result"
    }
   ],
   "source": [
    "x[0]"
   ]
  },
  {
   "cell_type": "code",
   "execution_count": 10,
   "id": "f7760939",
   "metadata": {},
   "outputs": [
    {
     "data": {
      "text/plain": [
       "array([37], dtype=int64)"
      ]
     },
     "execution_count": 10,
     "metadata": {},
     "output_type": "execute_result"
    }
   ],
   "source": [
    "y[0]"
   ]
  },
  {
   "cell_type": "code",
   "execution_count": 11,
   "id": "29109424",
   "metadata": {},
   "outputs": [
    {
     "data": {
      "text/plain": [
       "array([0], dtype=int64)"
      ]
     },
     "execution_count": 11,
     "metadata": {},
     "output_type": "execute_result"
    }
   ],
   "source": [
    "y1[0]"
   ]
  },
  {
   "cell_type": "code",
   "execution_count": 12,
   "id": "09879871",
   "metadata": {},
   "outputs": [
    {
     "data": {
      "text/plain": [
       "array([36], dtype=int64)"
      ]
     },
     "execution_count": 12,
     "metadata": {},
     "output_type": "execute_result"
    }
   ],
   "source": [
    "y2[1]"
   ]
  },
  {
   "cell_type": "code",
   "execution_count": 13,
   "id": "c89ff798",
   "metadata": {},
   "outputs": [],
   "source": [
    "y=y.astype('int')\n",
    "y1=y1.astype('int')\n",
    "y2=y2.astype('int')"
   ]
  },
  {
   "cell_type": "code",
   "execution_count": 14,
   "id": "51a34011",
   "metadata": {},
   "outputs": [],
   "source": [
    "ada = AdaBoostClassifier(DecisionTreeClassifier(max_depth=9),n_estimators=150)\n",
    "ada1 = AdaBoostClassifier(DecisionTreeClassifier(max_depth=9),n_estimators=150)\n",
    "ada2 = AdaBoostClassifier(DecisionTreeClassifier(max_depth=9),n_estimators=150)"
   ]
  },
  {
   "cell_type": "code",
   "execution_count": 15,
   "id": "fec5ce99",
   "metadata": {},
   "outputs": [
    {
     "name": "stderr",
     "output_type": "stream",
     "text": [
      "C:\\Users\\Pratiksha Ramteke\\anaconda3\\envs\\project\\lib\\site-packages\\sklearn\\utils\\validation.py:993: DataConversionWarning: A column-vector y was passed when a 1d array was expected. Please change the shape of y to (n_samples, ), for example using ravel().\n",
      "  y = column_or_1d(y, warn=True)\n",
      "C:\\Users\\Pratiksha Ramteke\\anaconda3\\envs\\project\\lib\\site-packages\\sklearn\\utils\\validation.py:993: DataConversionWarning: A column-vector y was passed when a 1d array was expected. Please change the shape of y to (n_samples, ), for example using ravel().\n",
      "  y = column_or_1d(y, warn=True)\n",
      "C:\\Users\\Pratiksha Ramteke\\anaconda3\\envs\\project\\lib\\site-packages\\sklearn\\utils\\validation.py:993: DataConversionWarning: A column-vector y was passed when a 1d array was expected. Please change the shape of y to (n_samples, ), for example using ravel().\n",
      "  y = column_or_1d(y, warn=True)\n"
     ]
    },
    {
     "data": {
      "text/plain": [
       "AdaBoostClassifier(base_estimator=DecisionTreeClassifier(max_depth=9),\n",
       "                   n_estimators=150)"
      ]
     },
     "execution_count": 15,
     "metadata": {},
     "output_type": "execute_result"
    }
   ],
   "source": [
    "ada.fit(x, y)\n",
    "ada1.fit(x, y1)\n",
    "ada2.fit(x, y2)"
   ]
  },
  {
   "cell_type": "code",
   "execution_count": null,
   "id": "3f8bdf09",
   "metadata": {},
   "outputs": [],
   "source": []
  },
  {
   "cell_type": "code",
   "execution_count": null,
   "id": "f9221b45",
   "metadata": {},
   "outputs": [],
   "source": []
  },
  {
   "cell_type": "code",
   "execution_count": null,
   "id": "efc97913",
   "metadata": {},
   "outputs": [],
   "source": []
  },
  {
   "cell_type": "code",
   "execution_count": null,
   "id": "28934f14",
   "metadata": {},
   "outputs": [],
   "source": []
  },
  {
   "cell_type": "code",
   "execution_count": 16,
   "id": "d1939f09",
   "metadata": {},
   "outputs": [],
   "source": [
    "import pickle\n",
    "with open('model_nitrogen_moisture_ph_ada.sav','wb') as f:\n",
    "    pickle.dump(ada,f)"
   ]
  },
  {
   "cell_type": "code",
   "execution_count": 17,
   "id": "c590296d",
   "metadata": {},
   "outputs": [],
   "source": [
    "import pickle\n",
    "with open('model_Potassium_moisture_ph_ada.sav','wb') as f:\n",
    "    pickle.dump(ada1,f)"
   ]
  },
  {
   "cell_type": "code",
   "execution_count": 18,
   "id": "3532373e",
   "metadata": {},
   "outputs": [],
   "source": [
    "import pickle\n",
    "with open('model_Phosphorous_moisture_ph_ada.sav','wb') as f:\n",
    "    pickle.dump(ada2,f)"
   ]
  },
  {
   "cell_type": "code",
   "execution_count": 19,
   "id": "88c52813",
   "metadata": {},
   "outputs": [
    {
     "name": "stdout",
     "output_type": "stream",
     "text": [
      "Enter Moisture:32\n",
      "Enter Ph-Value:2\n"
     ]
    }
   ],
   "source": [
    "import pandas as pd\n",
    "dict = {'Moisture':float(input(\"Enter Moisture:\")),\n",
    "        'Ph value':float(input(\"Enter Ph-Value:\"))}\n",
    "dff=pd.DataFrame(dict,index=[0])"
   ]
  },
  {
   "cell_type": "code",
   "execution_count": 20,
   "id": "320daa1b",
   "metadata": {},
   "outputs": [
    {
     "data": {
      "text/html": [
       "<div>\n",
       "<style scoped>\n",
       "    .dataframe tbody tr th:only-of-type {\n",
       "        vertical-align: middle;\n",
       "    }\n",
       "\n",
       "    .dataframe tbody tr th {\n",
       "        vertical-align: top;\n",
       "    }\n",
       "\n",
       "    .dataframe thead th {\n",
       "        text-align: right;\n",
       "    }\n",
       "</style>\n",
       "<table border=\"1\" class=\"dataframe\">\n",
       "  <thead>\n",
       "    <tr style=\"text-align: right;\">\n",
       "      <th></th>\n",
       "      <th>Moisture</th>\n",
       "      <th>Ph value</th>\n",
       "    </tr>\n",
       "  </thead>\n",
       "  <tbody>\n",
       "    <tr>\n",
       "      <th>0</th>\n",
       "      <td>32.0</td>\n",
       "      <td>2.0</td>\n",
       "    </tr>\n",
       "  </tbody>\n",
       "</table>\n",
       "</div>"
      ],
      "text/plain": [
       "   Moisture  Ph value\n",
       "0      32.0       2.0"
      ]
     },
     "execution_count": 20,
     "metadata": {},
     "output_type": "execute_result"
    }
   ],
   "source": [
    "dff"
   ]
  },
  {
   "cell_type": "code",
   "execution_count": 21,
   "id": "846944c2",
   "metadata": {},
   "outputs": [
    {
     "name": "stderr",
     "output_type": "stream",
     "text": [
      "C:\\Users\\Pratiksha Ramteke\\anaconda3\\envs\\project\\lib\\site-packages\\sklearn\\base.py:443: UserWarning: X has feature names, but AdaBoostClassifier was fitted without feature names\n",
      "  warnings.warn(\n",
      "C:\\Users\\Pratiksha Ramteke\\anaconda3\\envs\\project\\lib\\site-packages\\sklearn\\base.py:443: UserWarning: X has feature names, but AdaBoostClassifier was fitted without feature names\n",
      "  warnings.warn(\n",
      "C:\\Users\\Pratiksha Ramteke\\anaconda3\\envs\\project\\lib\\site-packages\\sklearn\\base.py:443: UserWarning: X has feature names, but AdaBoostClassifier was fitted without feature names\n",
      "  warnings.warn(\n"
     ]
    },
    {
     "name": "stdout",
     "output_type": "stream",
     "text": [
      "Nitrogen is  39\n",
      "Potassium is 0\n",
      "Phosphorous is 0\n"
     ]
    }
   ],
   "source": [
    "with open('model_nitrogen_moisture_ph_ada.sav','rb') as f:\n",
    "    ts=pickle.load(f)\n",
    "led=ts.predict(dff)\n",
    "nitrogen=led[0]\n",
    "print(\"Nitrogen is \",nitrogen)\n",
    "import pickle\n",
    "with open('model_Potassium_moisture_ph_ada.sav','rb') as f:\n",
    "    ss=pickle.load(f)\n",
    "d=ss.predict(dff)\n",
    "potassium=d[0]\n",
    "print(\"Potassium is\",potassium)\n",
    "with open('model_Phosphorous_moisture_ph_ada.sav','rb') as f:\n",
    "    st=pickle.load(f)\n",
    "ed=st.predict(dff)\n",
    "phosphorous=ed[0]\n",
    "print(\"Phosphorous is\",phosphorous)"
   ]
  },
  {
   "cell_type": "code",
   "execution_count": 22,
   "id": "1817b9c2",
   "metadata": {},
   "outputs": [
    {
     "data": {
      "text/html": [
       "<div>\n",
       "<style scoped>\n",
       "    .dataframe tbody tr th:only-of-type {\n",
       "        vertical-align: middle;\n",
       "    }\n",
       "\n",
       "    .dataframe tbody tr th {\n",
       "        vertical-align: top;\n",
       "    }\n",
       "\n",
       "    .dataframe thead th {\n",
       "        text-align: right;\n",
       "    }\n",
       "</style>\n",
       "<table border=\"1\" class=\"dataframe\">\n",
       "  <thead>\n",
       "    <tr style=\"text-align: right;\">\n",
       "      <th></th>\n",
       "      <th>N</th>\n",
       "      <th>P</th>\n",
       "      <th>K</th>\n",
       "      <th>temperature</th>\n",
       "      <th>humidity</th>\n",
       "      <th>ph</th>\n",
       "      <th>rainfall</th>\n",
       "      <th>label</th>\n",
       "    </tr>\n",
       "  </thead>\n",
       "  <tbody>\n",
       "    <tr>\n",
       "      <th>0</th>\n",
       "      <td>90</td>\n",
       "      <td>42</td>\n",
       "      <td>43</td>\n",
       "      <td>20.879744</td>\n",
       "      <td>82.002744</td>\n",
       "      <td>6.502985</td>\n",
       "      <td>202.935536</td>\n",
       "      <td>rice</td>\n",
       "    </tr>\n",
       "    <tr>\n",
       "      <th>1</th>\n",
       "      <td>85</td>\n",
       "      <td>58</td>\n",
       "      <td>41</td>\n",
       "      <td>21.770462</td>\n",
       "      <td>80.319644</td>\n",
       "      <td>7.038096</td>\n",
       "      <td>226.655537</td>\n",
       "      <td>rice</td>\n",
       "    </tr>\n",
       "    <tr>\n",
       "      <th>2</th>\n",
       "      <td>60</td>\n",
       "      <td>55</td>\n",
       "      <td>44</td>\n",
       "      <td>23.004459</td>\n",
       "      <td>82.320763</td>\n",
       "      <td>7.840207</td>\n",
       "      <td>263.964248</td>\n",
       "      <td>rice</td>\n",
       "    </tr>\n",
       "    <tr>\n",
       "      <th>3</th>\n",
       "      <td>74</td>\n",
       "      <td>35</td>\n",
       "      <td>40</td>\n",
       "      <td>26.491096</td>\n",
       "      <td>80.158363</td>\n",
       "      <td>6.980401</td>\n",
       "      <td>242.864034</td>\n",
       "      <td>rice</td>\n",
       "    </tr>\n",
       "    <tr>\n",
       "      <th>4</th>\n",
       "      <td>78</td>\n",
       "      <td>42</td>\n",
       "      <td>42</td>\n",
       "      <td>20.130175</td>\n",
       "      <td>81.604873</td>\n",
       "      <td>7.628473</td>\n",
       "      <td>262.717340</td>\n",
       "      <td>rice</td>\n",
       "    </tr>\n",
       "  </tbody>\n",
       "</table>\n",
       "</div>"
      ],
      "text/plain": [
       "    N   P   K  temperature   humidity        ph    rainfall label\n",
       "0  90  42  43    20.879744  82.002744  6.502985  202.935536  rice\n",
       "1  85  58  41    21.770462  80.319644  7.038096  226.655537  rice\n",
       "2  60  55  44    23.004459  82.320763  7.840207  263.964248  rice\n",
       "3  74  35  40    26.491096  80.158363  6.980401  242.864034  rice\n",
       "4  78  42  42    20.130175  81.604873  7.628473  262.717340  rice"
      ]
     },
     "execution_count": 22,
     "metadata": {},
     "output_type": "execute_result"
    }
   ],
   "source": [
    "import pandas as pd\n",
    "croptobe=pd.read_csv(\"Crop_recommendation.csv\",encoding ='latin1')\n",
    "from sklearn import preprocessing\n",
    "import numpy as np\n",
    "croptobe.head()"
   ]
  },
  {
   "cell_type": "code",
   "execution_count": 23,
   "id": "32991b9c",
   "metadata": {},
   "outputs": [],
   "source": [
    "le = preprocessing.LabelEncoder()\n",
    "croptobe['label']=le.fit_transform(croptobe['label'])"
   ]
  },
  {
   "cell_type": "code",
   "execution_count": 24,
   "id": "9a759ee9",
   "metadata": {},
   "outputs": [],
   "source": [
    "import random\n",
    "lst=[]\n",
    "for i in range(2201):\n",
    "    n = random.randint(25,65)\n",
    "    lst.append(n)\n",
    "dff=pd.DataFrame(lst,columns=['Moisture'])"
   ]
  },
  {
   "cell_type": "code",
   "execution_count": 25,
   "id": "18d0891f",
   "metadata": {},
   "outputs": [],
   "source": [
    "new_df=croptobe.join(dff)"
   ]
  },
  {
   "cell_type": "code",
   "execution_count": 26,
   "id": "8e8003b2",
   "metadata": {},
   "outputs": [],
   "source": [
    "dff_new=new_df[['N','P','K','ph','Moisture','label']]"
   ]
  },
  {
   "cell_type": "code",
   "execution_count": 27,
   "id": "928320df",
   "metadata": {},
   "outputs": [],
   "source": [
    "x=dff_new.drop(['label'],axis=1)#independent\n",
    "y=dff_new['label']#dependent"
   ]
  },
  {
   "cell_type": "code",
   "execution_count": 28,
   "id": "150ddaa5",
   "metadata": {},
   "outputs": [],
   "source": [
    "x_train,x_test , y_train, y_test = train_test_split(x, y,test_size=0.3)"
   ]
  },
  {
   "cell_type": "markdown",
   "id": "8fa815ae",
   "metadata": {},
   "source": [
    "# Logistic Regression"
   ]
  },
  {
   "cell_type": "code",
   "execution_count": 29,
   "id": "3ef1ad22",
   "metadata": {
    "scrolled": true
   },
   "outputs": [
    {
     "name": "stderr",
     "output_type": "stream",
     "text": [
      "C:\\Users\\Pratiksha Ramteke\\anaconda3\\envs\\project\\lib\\site-packages\\sklearn\\linear_model\\_logistic.py:814: ConvergenceWarning: lbfgs failed to converge (status=1):\n",
      "STOP: TOTAL NO. of ITERATIONS REACHED LIMIT.\n",
      "\n",
      "Increase the number of iterations (max_iter) or scale the data as shown in:\n",
      "    https://scikit-learn.org/stable/modules/preprocessing.html\n",
      "Please also refer to the documentation for alternative solver options:\n",
      "    https://scikit-learn.org/stable/modules/linear_model.html#logistic-regression\n",
      "  n_iter_i = _check_optimize_result(\n"
     ]
    }
   ],
   "source": [
    "from sklearn.linear_model import LogisticRegression\n",
    "\n",
    "lr = LogisticRegression()\n",
    "\n",
    "\n",
    "lr.fit(x_train,y_train)#train model\n",
    "\n",
    "Y_pred_lr = lr.predict(x_test)"
   ]
  },
  {
   "cell_type": "code",
   "execution_count": 30,
   "id": "6bdbdb5c",
   "metadata": {},
   "outputs": [
    {
     "name": "stdout",
     "output_type": "stream",
     "text": [
      "The accuracy score achieved using Logistic Regression is: 60.0 %\n"
     ]
    }
   ],
   "source": [
    "score_lr = round(accuracy_score(Y_pred_lr,y_test)*100,2)\n",
    "\n",
    "print(\"The accuracy score achieved using Logistic Regression is: \"+str(score_lr)+\" %\")"
   ]
  },
  {
   "cell_type": "code",
   "execution_count": 31,
   "id": "c7b6edf3",
   "metadata": {},
   "outputs": [
    {
     "data": {
      "text/plain": [
       "<AxesSubplot:title={'center':'Logistic_Regression'}>"
      ]
     },
     "execution_count": 31,
     "metadata": {},
     "output_type": "execute_result"
    },
    {
     "data": {
      "image/png": "[encoded data removed]",
      "text/plain": [
       "<Figure size 432x288 with 1 Axes>"
      ]
     },
     "metadata": {
      "needs_background": "light"
     },
     "output_type": "display_data"
    }
   ],
   "source": [
    "import matplotlib.pyplot as plt\n",
    "import seaborn as sns\n",
    "lr_cm=confusion_matrix(y_test,Y_pred_lr)\n",
    "plt.title(\"Logistic_Regression\")\n",
    "sns.heatmap(lr_cm,annot=True,cmap=\"Blues\",fmt=\"d\",cbar=False)"
   ]
  },
  {
   "cell_type": "code",
   "execution_count": 32,
   "id": "5fe2a6c6",
   "metadata": {},
   "outputs": [],
   "source": [
    "from sklearn import metrics\n",
    "score_lr=round(metrics.accuracy_score(y_test,Y_pred_lr)*100,2)\n",
    "score_lr_precision=metrics.precision_score(Y_pred_lr,y_test,average='macro')\n",
    "score_lr_recall=round(metrics.recall_score(y_test,Y_pred_lr,average='macro')*100,2)\n",
    "score_lr_f1_score=round(metrics.f1_score(y_test, Y_pred_lr,average='macro')*100,2)"
   ]
  },
  {
   "cell_type": "code",
   "execution_count": 33,
   "id": "90add692",
   "metadata": {},
   "outputs": [],
   "source": [
    "import pickle\n",
    "with open('model_MPH_LR_newest.sav','wb') as f:\n",
    "    pickle.dump(lr,f)"
   ]
  },
  {
   "cell_type": "markdown",
   "id": "46ab5aac",
   "metadata": {},
   "source": [
    "# SVM Linear "
   ]
  },
  {
   "cell_type": "code",
   "execution_count": 34,
   "id": "b43f4db8",
   "metadata": {},
   "outputs": [
    {
     "name": "stdout",
     "output_type": "stream",
     "text": [
      "The accuracy score achieved using Linear SVM is: 72.73 %\n"
     ]
    }
   ],
   "source": [
    "from sklearn import svm\n",
    "\n",
    "sv = svm.SVC(kernel='linear')\n",
    "\n",
    "sv.fit(x_train, y_train)\n",
    "\n",
    "Y_pred_svm = sv.predict(x_test)\n",
    "score_svm = round(accuracy_score(Y_pred_svm,y_test)*100,2)\n",
    "\n",
    "print(\"The accuracy score achieved using Linear SVM is: \"+str(score_svm)+\" %\")"
   ]
  },
  {
   "cell_type": "code",
   "execution_count": 35,
   "id": "4a6f28f0",
   "metadata": {},
   "outputs": [
    {
     "data": {
      "text/plain": [
       "<AxesSubplot:title={'center':'SVM'}>"
      ]
     },
     "execution_count": 35,
     "metadata": {},
     "output_type": "execute_result"
    },
    {
     "data": {
      "image/png": "[encoded data removed]",
      "text/plain": [
       "<Figure size 432x288 with 1 Axes>"
      ]
     },
     "metadata": {
      "needs_background": "light"
     },
     "output_type": "display_data"
    }
   ],
   "source": [
    "lr_cm=confusion_matrix(y_test,Y_pred_svm)\n",
    "plt.title(\"SVM\")\n",
    "sns.heatmap(lr_cm,annot=True,cmap=\"Blues\",fmt=\"d\",cbar=False)"
   ]
  },
  {
   "cell_type": "code",
   "execution_count": 36,
   "id": "d210112e",
   "metadata": {},
   "outputs": [],
   "source": [
    "from sklearn import metrics\n",
    "score_svm=round(metrics.accuracy_score(y_test,Y_pred_svm)*100,2)\n",
    "score_svm_precision=metrics.precision_score(Y_pred_svm,y_test,average='macro')\n",
    "score_svm_recall=round(metrics.recall_score(y_test,Y_pred_svm,average='macro')*100,2)\n",
    "score_svm_f1_score=round(metrics.f1_score(y_test,Y_pred_svm,average='macro')*100,2)"
   ]
  },
  {
   "cell_type": "code",
   "execution_count": 37,
   "id": "5af7ff1f",
   "metadata": {},
   "outputs": [],
   "source": [
    "import pickle\n",
    "with open('model_MPH_SVM_newest.sav','wb') as f:\n",
    "    pickle.dump(sv,f)"
   ]
  },
  {
   "cell_type": "markdown",
   "id": "0da96c92",
   "metadata": {},
   "source": [
    "# Naive Bayes "
   ]
  },
  {
   "cell_type": "code",
   "execution_count": 38,
   "id": "d5b8c09d",
   "metadata": {},
   "outputs": [],
   "source": [
    "from sklearn.naive_bayes import GaussianNB\n",
    "\n",
    "nb = GaussianNB()\n",
    "\n",
    "nb.fit(x_train,y_train)\n",
    "\n",
    "Y_pred_nb = nb.predict(x_test)"
   ]
  },
  {
   "cell_type": "code",
   "execution_count": 39,
   "id": "f9b60b66",
   "metadata": {},
   "outputs": [
    {
     "name": "stdout",
     "output_type": "stream",
     "text": [
      "The accuracy score achieved using Naive Bayes is: 78.79 %\n"
     ]
    }
   ],
   "source": [
    "score_nb = round(accuracy_score(Y_pred_nb,y_test)*100,2)\n",
    "\n",
    "print(\"The accuracy score achieved using Naive Bayes is: \"+str(score_nb)+\" %\")"
   ]
  },
  {
   "cell_type": "code",
   "execution_count": 40,
   "id": "130dba8b",
   "metadata": {},
   "outputs": [
    {
     "data": {
      "text/plain": [
       "<AxesSubplot:title={'center':'Naive Bayes'}>"
      ]
     },
     "execution_count": 40,
     "metadata": {},
     "output_type": "execute_result"
    },
    {
     "data": {
      "image/png": "[encoded data removed]",
      "text/plain": [
       "<Figure size 432x288 with 1 Axes>"
      ]
     },
     "metadata": {
      "needs_background": "light"
     },
     "output_type": "display_data"
    }
   ],
   "source": [
    "lr_cm=confusion_matrix(y_test,Y_pred_nb)\n",
    "plt.title(\"Naive Bayes\")\n",
    "sns.heatmap(lr_cm,annot=True,cmap=\"Blues\",fmt=\"d\",cbar=False)"
   ]
  },
  {
   "cell_type": "code",
   "execution_count": 41,
   "id": "c38fdb5e",
   "metadata": {},
   "outputs": [],
   "source": [
    "from sklearn import metrics\n",
    "score_nb=round(metrics.accuracy_score(y_test,Y_pred_nb)*100,2)\n",
    "score_nb_precision=metrics.precision_score(Y_pred_nb,y_test,average='macro')\n",
    "score_nb_recall=round(metrics.recall_score(y_test,Y_pred_nb,average='macro')*100,2)\n",
    "score_nb_f1_score=round(metrics.f1_score(y_test,Y_pred_nb,average='macro')*100,2)"
   ]
  },
  {
   "cell_type": "code",
   "execution_count": 42,
   "id": "c4f0ac46",
   "metadata": {},
   "outputs": [],
   "source": [
    "import pickle\n",
    "with open('model_MPH_NB_newest.sav','wb') as f:\n",
    "    pickle.dump(nb,f)"
   ]
  },
  {
   "cell_type": "markdown",
   "id": "6e3f58ce",
   "metadata": {},
   "source": [
    "# Decision Tree"
   ]
  },
  {
   "cell_type": "code",
   "execution_count": 43,
   "id": "ff445fa1",
   "metadata": {},
   "outputs": [
    {
     "name": "stdout",
     "output_type": "stream",
     "text": [
      "The accuracy score achieved using Decision Tree is: 75.0 %\n"
     ]
    }
   ],
   "source": [
    "dt=DecisionTreeClassifier()\n",
    "dt.fit(x_train,y_train)\n",
    "Y_pred_dt = dt.predict(x_test)\n",
    "score_dt = round(accuracy_score(Y_pred_dt,y_test)*100,2)\n",
    "\n",
    "print(\"The accuracy score achieved using Decision Tree is: \"+str(score_dt)+\" %\")"
   ]
  },
  {
   "cell_type": "code",
   "execution_count": 44,
   "id": "b33b0993",
   "metadata": {},
   "outputs": [
    {
     "data": {
      "text/plain": [
       "<AxesSubplot:title={'center':'Decision Tree'}>"
      ]
     },
     "execution_count": 44,
     "metadata": {},
     "output_type": "execute_result"
    },
    {
     "data": {
      "image/png": "[encoded data removed]",
      "text/plain": [
       "<Figure size 432x288 with 1 Axes>"
      ]
     },
     "metadata": {
      "needs_background": "light"
     },
     "output_type": "display_data"
    }
   ],
   "source": [
    "lr_cm=confusion_matrix(y_test,Y_pred_dt)\n",
    "plt.title(\"Decision Tree\")\n",
    "sns.heatmap(lr_cm,annot=True,cmap=\"Blues\",fmt=\"d\",cbar=False)"
   ]
  },
  {
   "cell_type": "code",
   "execution_count": 45,
   "id": "7144c78e",
   "metadata": {},
   "outputs": [],
   "source": [
    "from sklearn import metrics\n",
    "score_dt=round(metrics.accuracy_score(y_test,Y_pred_dt)*100,2)\n",
    "score_dt_precision=metrics.precision_score(Y_pred_dt,y_test,average='macro')\n",
    "score_dt_recall=round(metrics.recall_score(y_test,Y_pred_dt,average='macro')*100,2)\n",
    "score_dt_f1_score=round(metrics.f1_score(y_test,Y_pred_dt,average='macro')*100,2)"
   ]
  },
  {
   "cell_type": "code",
   "execution_count": 46,
   "id": "35c20360",
   "metadata": {},
   "outputs": [],
   "source": [
    "import pickle\n",
    "with open('model_MPH_DT_newest.sav','wb') as f:\n",
    "    pickle.dump(dt,f)"
   ]
  },
  {
   "cell_type": "markdown",
   "id": "03339171",
   "metadata": {},
   "source": [
    "# Random Forest"
   ]
  },
  {
   "cell_type": "code",
   "execution_count": 47,
   "id": "6c5645d7",
   "metadata": {},
   "outputs": [
    {
     "name": "stderr",
     "output_type": "stream",
     "text": [
      "[Parallel(n_jobs=2)]: Using backend ThreadingBackend with 2 concurrent workers.\n",
      "[Parallel(n_jobs=2)]: Done  10 out of  10 | elapsed:    0.0s finished\n",
      "[Parallel(n_jobs=2)]: Using backend ThreadingBackend with 2 concurrent workers.\n",
      "[Parallel(n_jobs=2)]: Done  10 out of  10 | elapsed:    0.0s finished\n",
      "[Parallel(n_jobs=2)]: Using backend ThreadingBackend with 2 concurrent workers.\n",
      "[Parallel(n_jobs=2)]: Done  10 out of  10 | elapsed:    0.0s finished\n"
     ]
    },
    {
     "name": "stdout",
     "output_type": "stream",
     "text": [
      "building tree 1 of 10building tree 2 of 10\n",
      "\n",
      "building tree 3 of 10building tree 4 of 10\n",
      "\n",
      "building tree 5 of 10\n",
      "building tree 6 of 10\n",
      "building tree 7 of 10building tree 8 of 10\n",
      "\n",
      "building tree 9 of 10\n",
      "building tree 10 of 10\n"
     ]
    }
   ],
   "source": [
    "rfc=RandomForestClassifier(n_estimators=10,n_jobs=2,verbose=2)\n",
    "rfc.fit(x_train,y_train)\n",
    "score_rf=rfc.score(x_test,y_test)\n",
    "Y_pred_rf = rfc.predict(x_test)\n",
    "score_rf=round(accuracy_score(Y_pred_rf,y_test)*100,2)"
   ]
  },
  {
   "cell_type": "code",
   "execution_count": 48,
   "id": "0c07884b",
   "metadata": {},
   "outputs": [
    {
     "name": "stdout",
     "output_type": "stream",
     "text": [
      "The accuracy score achieved using Random Forest is: 76.36 %\n"
     ]
    }
   ],
   "source": [
    "print(\"The accuracy score achieved using Random Forest is: \"+str(score_rf)+\" %\")"
   ]
  },
  {
   "cell_type": "code",
   "execution_count": 49,
   "id": "80d3ef68",
   "metadata": {},
   "outputs": [
    {
     "data": {
      "text/plain": [
       "<AxesSubplot:title={'center':'Random Forest'}>"
      ]
     },
     "execution_count": 49,
     "metadata": {},
     "output_type": "execute_result"
    },
    {
     "data": {
      "image/png": "[encoded data removed]",
      "text/plain": [
       "<Figure size 432x288 with 1 Axes>"
      ]
     },
     "metadata": {
      "needs_background": "light"
     },
     "output_type": "display_data"
    }
   ],
   "source": [
    "lr_cm=confusion_matrix(y_test,Y_pred_dt)\n",
    "plt.title(\"Random Forest\")\n",
    "sns.heatmap(lr_cm,annot=True,cmap=\"Blues\",fmt=\"d\",cbar=False)"
   ]
  },
  {
   "cell_type": "code",
   "execution_count": 50,
   "id": "eb6f39bf",
   "metadata": {},
   "outputs": [],
   "source": [
    "from sklearn import metrics\n",
    "score_rf=round(metrics.accuracy_score(y_test,Y_pred_rf)*100,2)\n",
    "score_rf_precision=metrics.precision_score(Y_pred_rf,y_test,average='macro')\n",
    "score_rf_recall=round(metrics.recall_score(y_test,Y_pred_rf,average='macro')*100,2)\n",
    "score_rf_f1_score=round(metrics.f1_score(y_test,Y_pred_rf,average='macro')*100,2)"
   ]
  },
  {
   "cell_type": "code",
   "execution_count": 51,
   "id": "fa82d1bf",
   "metadata": {},
   "outputs": [],
   "source": [
    "import pickle\n",
    "with open('model_MPH_RF_newest.sav','wb') as f:\n",
    "    pickle.dump(rfc,f)"
   ]
  },
  {
   "cell_type": "markdown",
   "id": "aabd7a88",
   "metadata": {},
   "source": [
    "# ADA Boost"
   ]
  },
  {
   "cell_type": "code",
   "execution_count": 52,
   "id": "2558cf8d",
   "metadata": {},
   "outputs": [],
   "source": [
    "ada = AdaBoostClassifier(DecisionTreeClassifier(max_depth=9),n_estimators=150)\n",
    "ada.fit(x_train, y_train)\n",
    "\n",
    "ada.score(x_test,y_test)\n",
    "predictions = ada.predict(x_test)"
   ]
  },
  {
   "cell_type": "code",
   "execution_count": 53,
   "id": "04a49626",
   "metadata": {},
   "outputs": [
    {
     "name": "stdout",
     "output_type": "stream",
     "text": [
      "The accuracy score achieved using Ada Boost is: 77.73 %\n"
     ]
    }
   ],
   "source": [
    "score_ada = round(accuracy_score(predictions,y_test)*100,2)\n",
    "\n",
    "print(\"The accuracy score achieved using Ada Boost is: \"+str(score_ada)+\" %\")"
   ]
  },
  {
   "cell_type": "code",
   "execution_count": 54,
   "id": "21c3703f",
   "metadata": {},
   "outputs": [
    {
     "data": {
      "text/plain": [
       "<AxesSubplot:title={'center':'ADA Boost'}>"
      ]
     },
     "execution_count": 54,
     "metadata": {},
     "output_type": "execute_result"
    },
    {
     "data": {
      "image/png": "[encoded data removed]",
      "text/plain": [
       "<Figure size 432x288 with 1 Axes>"
      ]
     },
     "metadata": {
      "needs_background": "light"
     },
     "output_type": "display_data"
    }
   ],
   "source": [
    "lr_cm=confusion_matrix(y_test,predictions)\n",
    "plt.title(\"ADA Boost\")\n",
    "sns.heatmap(lr_cm,annot=True,cmap=\"Blues\",fmt=\"d\",cbar=False)"
   ]
  },
  {
   "cell_type": "code",
   "execution_count": 55,
   "id": "7fb1b605",
   "metadata": {},
   "outputs": [],
   "source": [
    "from sklearn import metrics\n",
    "score_ada=round(metrics.accuracy_score(y_test,predictions)*100,2)\n",
    "score_ada_precision=metrics.precision_score(predictions,y_test,average='macro')\n",
    "score_ada_recall=round(metrics.recall_score(y_test,predictions,average='macro')*100,2)\n",
    "score_ada_f1_score=round(metrics.f1_score(y_test,predictions,average='macro')*100,2)"
   ]
  },
  {
   "cell_type": "code",
   "execution_count": 56,
   "id": "ef95e4d4",
   "metadata": {},
   "outputs": [],
   "source": [
    "import pickle\n",
    "with open('model_MPH_ADA_newest.sav','wb') as f:\n",
    "    pickle.dump(ada,f)"
   ]
  },
  {
   "cell_type": "markdown",
   "id": "8519d3df",
   "metadata": {},
   "source": [
    "# Neural Network"
   ]
  },
  {
   "cell_type": "code",
   "execution_count": 57,
   "id": "8f6c1d19",
   "metadata": {},
   "outputs": [],
   "source": [
    "import tensorflow as tf\n",
    "from tensorflow import keras\n",
    "from tensorflow.keras.models import Sequential"
   ]
  },
  {
   "cell_type": "code",
   "execution_count": 58,
   "id": "b3cb2d01",
   "metadata": {},
   "outputs": [],
   "source": [
    "import tensorflow as tf\n",
    "from tensorflow import keras\n",
    "model=tf.keras.Sequential([\n",
    "    keras.layers.Dense(20,input_shape=x_train.shape[1:],activation='relu'),\n",
    "    keras.layers.Dense(10,activation='relu'),\n",
    "    keras.layers.Dense(22,activation='sigmoid'),\n",
    "])"
   ]
  },
  {
   "cell_type": "code",
   "execution_count": 59,
   "id": "3008bce6",
   "metadata": {},
   "outputs": [],
   "source": [
    "model.compile(optimizer='adam',loss='sparse_categorical_crossentropy',metrics=['accuracy'])"
   ]
  },
  {
   "cell_type": "code",
   "execution_count": 60,
   "id": "292f2d87",
   "metadata": {},
   "outputs": [
    {
     "name": "stdout",
     "output_type": "stream",
     "text": [
      "Epoch 1/100\n",
      "49/49 [==============================] - 0s 4ms/step - loss: 6.0572 - accuracy: 0.0416\n",
      "Epoch 2/100\n",
      "49/49 [==============================] - 0s 3ms/step - loss: 5.0772 - accuracy: 0.0318\n",
      "Epoch 3/100\n",
      "49/49 [==============================] - 0s 2ms/step - loss: 4.7503 - accuracy: 0.0331\n",
      "Epoch 4/100\n",
      "49/49 [==============================] - 0s 3ms/step - loss: 4.6203 - accuracy: 0.0286\n",
      "Epoch 5/100\n",
      "49/49 [==============================] - 0s 3ms/step - loss: 4.5175 - accuracy: 0.0325\n",
      "Epoch 6/100\n",
      "49/49 [==============================] - 0s 3ms/step - loss: 4.4197 - accuracy: 0.0396\n",
      "Epoch 7/100\n",
      "49/49 [==============================] - 0s 3ms/step - loss: 4.3253 - accuracy: 0.0435\n",
      "Epoch 8/100\n",
      "49/49 [==============================] - 0s 3ms/step - loss: 4.2247 - accuracy: 0.0519\n",
      "Epoch 9/100\n",
      "49/49 [==============================] - 0s 3ms/step - loss: 4.1280 - accuracy: 0.0643\n",
      "Epoch 10/100\n",
      "49/49 [==============================] - 0s 2ms/step - loss: 4.0093 - accuracy: 0.0416\n",
      "Epoch 11/100\n",
      "49/49 [==============================] - 0s 3ms/step - loss: 3.9000 - accuracy: 0.0481\n",
      "Epoch 12/100\n",
      "49/49 [==============================] - 0s 3ms/step - loss: 3.8478 - accuracy: 0.0500\n",
      "Epoch 13/100\n",
      "49/49 [==============================] - 0s 3ms/step - loss: 3.7888 - accuracy: 0.0831\n",
      "Epoch 14/100\n",
      "49/49 [==============================] - 0s 3ms/step - loss: 3.4789 - accuracy: 0.1779: 0s - loss: 3.5251 - accuracy: 0.15\n",
      "Epoch 15/100\n",
      "49/49 [==============================] - 0s 3ms/step - loss: 2.6684 - accuracy: 0.2883\n",
      "Epoch 16/100\n",
      "49/49 [==============================] - 0s 3ms/step - loss: 2.4231 - accuracy: 0.3078\n",
      "Epoch 17/100\n",
      "49/49 [==============================] - ETA: 0s - loss: 2.3586 - accuracy: 0.32 - 0s 3ms/step - loss: 2.3317 - accuracy: 0.3325\n",
      "Epoch 18/100\n",
      "49/49 [==============================] - 0s 3ms/step - loss: 2.2580 - accuracy: 0.3753\n",
      "Epoch 19/100\n",
      "49/49 [==============================] - 0s 3ms/step - loss: 2.2326 - accuracy: 0.3831\n",
      "Epoch 20/100\n",
      "49/49 [==============================] - 0s 3ms/step - loss: 2.1852 - accuracy: 0.3955\n",
      "Epoch 21/100\n",
      "49/49 [==============================] - 0s 3ms/step - loss: 2.1623 - accuracy: 0.4123\n",
      "Epoch 22/100\n",
      "49/49 [==============================] - 0s 4ms/step - loss: 2.1557 - accuracy: 0.4123\n",
      "Epoch 23/100\n",
      "49/49 [==============================] - 0s 4ms/step - loss: 2.1208 - accuracy: 0.4292\n",
      "Epoch 24/100\n",
      "49/49 [==============================] - 0s 3ms/step - loss: 2.1058 - accuracy: 0.4286\n",
      "Epoch 25/100\n",
      "49/49 [==============================] - 0s 3ms/step - loss: 2.1037 - accuracy: 0.4195\n",
      "Epoch 26/100\n",
      "49/49 [==============================] - 0s 3ms/step - loss: 2.0703 - accuracy: 0.4506\n",
      "Epoch 27/100\n",
      "49/49 [==============================] - 0s 3ms/step - loss: 2.0633 - accuracy: 0.4442\n",
      "Epoch 28/100\n",
      "49/49 [==============================] - 0s 3ms/step - loss: 2.0514 - accuracy: 0.4578\n",
      "Epoch 29/100\n",
      "49/49 [==============================] - 0s 3ms/step - loss: 2.0509 - accuracy: 0.4545\n",
      "Epoch 30/100\n",
      "49/49 [==============================] - 0s 3ms/step - loss: 2.0231 - accuracy: 0.4474\n",
      "Epoch 31/100\n",
      "49/49 [==============================] - 0s 3ms/step - loss: 2.0229 - accuracy: 0.4630\n",
      "Epoch 32/100\n",
      "49/49 [==============================] - 0s 3ms/step - loss: 2.0143 - accuracy: 0.4591\n",
      "Epoch 33/100\n",
      "49/49 [==============================] - 0s 4ms/step - loss: 1.9993 - accuracy: 0.4636\n",
      "Epoch 34/100\n",
      "49/49 [==============================] - 0s 3ms/step - loss: 1.9908 - accuracy: 0.4604\n",
      "Epoch 35/100\n",
      "49/49 [==============================] - 0s 3ms/step - loss: 1.9908 - accuracy: 0.4604\n",
      "Epoch 36/100\n",
      "49/49 [==============================] - 0s 3ms/step - loss: 1.9795 - accuracy: 0.4695\n",
      "Epoch 37/100\n",
      "49/49 [==============================] - 0s 3ms/step - loss: 1.9768 - accuracy: 0.4734\n",
      "Epoch 38/100\n",
      "49/49 [==============================] - 0s 3ms/step - loss: 1.9671 - accuracy: 0.4714\n",
      "Epoch 39/100\n",
      "49/49 [==============================] - 0s 3ms/step - loss: 1.9697 - accuracy: 0.4695\n",
      "Epoch 40/100\n",
      "49/49 [==============================] - 0s 3ms/step - loss: 1.9482 - accuracy: 0.4727\n",
      "Epoch 41/100\n",
      "49/49 [==============================] - 0s 3ms/step - loss: 1.9415 - accuracy: 0.4708\n",
      "Epoch 42/100\n",
      "49/49 [==============================] - 0s 3ms/step - loss: 1.9391 - accuracy: 0.4714\n",
      "Epoch 43/100\n",
      "49/49 [==============================] - 0s 3ms/step - loss: 1.9307 - accuracy: 0.4721\n",
      "Epoch 44/100\n",
      "49/49 [==============================] - 0s 3ms/step - loss: 1.9167 - accuracy: 0.4838\n",
      "Epoch 45/100\n",
      "49/49 [==============================] - 0s 3ms/step - loss: 1.9206 - accuracy: 0.4714\n",
      "Epoch 46/100\n",
      "49/49 [==============================] - 0s 3ms/step - loss: 1.9265 - accuracy: 0.4656\n",
      "Epoch 47/100\n",
      "49/49 [==============================] - 0s 3ms/step - loss: 1.9207 - accuracy: 0.4779\n",
      "Epoch 48/100\n",
      "49/49 [==============================] - 0s 3ms/step - loss: 1.9146 - accuracy: 0.4740\n",
      "Epoch 49/100\n",
      "49/49 [==============================] - 0s 3ms/step - loss: 1.8968 - accuracy: 0.4935\n",
      "Epoch 50/100\n",
      "49/49 [==============================] - 0s 3ms/step - loss: 1.9001 - accuracy: 0.4825\n",
      "Epoch 51/100\n",
      "49/49 [==============================] - 0s 3ms/step - loss: 1.9018 - accuracy: 0.4825\n",
      "Epoch 52/100\n",
      "49/49 [==============================] - 0s 3ms/step - loss: 1.9230 - accuracy: 0.4786\n",
      "Epoch 53/100\n",
      "49/49 [==============================] - 0s 3ms/step - loss: 1.8876 - accuracy: 0.4844\n",
      "Epoch 54/100\n",
      "49/49 [==============================] - 0s 3ms/step - loss: 1.8848 - accuracy: 0.4760\n",
      "Epoch 55/100\n",
      "49/49 [==============================] - 0s 3ms/step - loss: 1.8864 - accuracy: 0.4831\n",
      "Epoch 56/100\n",
      "49/49 [==============================] - 0s 3ms/step - loss: 1.8802 - accuracy: 0.4909\n",
      "Epoch 57/100\n",
      "49/49 [==============================] - 0s 3ms/step - loss: 1.8729 - accuracy: 0.4942\n",
      "Epoch 58/100\n",
      "49/49 [==============================] - 0s 3ms/step - loss: 1.8631 - accuracy: 0.5058\n",
      "Epoch 59/100\n",
      "49/49 [==============================] - 0s 3ms/step - loss: 1.8683 - accuracy: 0.4890\n",
      "Epoch 60/100\n",
      "49/49 [==============================] - 0s 3ms/step - loss: 1.8704 - accuracy: 0.4831\n",
      "Epoch 61/100\n",
      "49/49 [==============================] - 0s 3ms/step - loss: 1.8707 - accuracy: 0.4896\n",
      "Epoch 62/100\n",
      "49/49 [==============================] - 0s 3ms/step - loss: 1.8703 - accuracy: 0.4968\n",
      "Epoch 63/100\n",
      "49/49 [==============================] - 0s 2ms/step - loss: 1.8580 - accuracy: 0.4981\n",
      "Epoch 64/100\n",
      "49/49 [==============================] - 0s 3ms/step - loss: 1.8574 - accuracy: 0.4935\n",
      "Epoch 65/100\n",
      "49/49 [==============================] - 0s 3ms/step - loss: 1.8499 - accuracy: 0.5039\n",
      "Epoch 66/100\n",
      "49/49 [==============================] - 0s 3ms/step - loss: 1.8550 - accuracy: 0.4961\n",
      "Epoch 67/100\n",
      "49/49 [==============================] - 0s 3ms/step - loss: 1.8504 - accuracy: 0.4935\n",
      "Epoch 68/100\n",
      "49/49 [==============================] - 0s 3ms/step - loss: 1.8537 - accuracy: 0.4955\n",
      "Epoch 69/100\n",
      "49/49 [==============================] - 0s 3ms/step - loss: 1.8475 - accuracy: 0.4987\n",
      "Epoch 70/100\n",
      "49/49 [==============================] - 0s 3ms/step - loss: 1.8510 - accuracy: 0.4961\n",
      "Epoch 71/100\n",
      "49/49 [==============================] - 0s 3ms/step - loss: 1.8457 - accuracy: 0.4994\n",
      "Epoch 72/100\n",
      "49/49 [==============================] - 0s 3ms/step - loss: 1.8510 - accuracy: 0.4994\n",
      "Epoch 73/100\n",
      "49/49 [==============================] - 0s 3ms/step - loss: 1.8352 - accuracy: 0.5013\n",
      "Epoch 74/100\n",
      "49/49 [==============================] - 0s 3ms/step - loss: 1.8347 - accuracy: 0.4935\n",
      "Epoch 75/100\n",
      "49/49 [==============================] - 0s 3ms/step - loss: 1.8406 - accuracy: 0.5013\n",
      "Epoch 76/100\n",
      "49/49 [==============================] - 0s 3ms/step - loss: 1.8403 - accuracy: 0.5006\n",
      "Epoch 77/100\n",
      "49/49 [==============================] - 0s 3ms/step - loss: 1.8268 - accuracy: 0.5000\n",
      "Epoch 78/100\n",
      "49/49 [==============================] - 0s 3ms/step - loss: 1.8360 - accuracy: 0.5039\n",
      "Epoch 79/100\n",
      "49/49 [==============================] - 0s 3ms/step - loss: 1.8228 - accuracy: 0.5143\n",
      "Epoch 80/100\n",
      "49/49 [==============================] - 0s 3ms/step - loss: 1.8214 - accuracy: 0.5136\n",
      "Epoch 81/100\n",
      "49/49 [==============================] - 0s 3ms/step - loss: 1.8166 - accuracy: 0.5130\n",
      "Epoch 82/100\n",
      "49/49 [==============================] - 0s 3ms/step - loss: 1.8191 - accuracy: 0.5058\n",
      "Epoch 83/100\n",
      "49/49 [==============================] - 0s 3ms/step - loss: 1.8254 - accuracy: 0.5006\n",
      "Epoch 84/100\n",
      "49/49 [==============================] - 0s 3ms/step - loss: 1.8216 - accuracy: 0.5136\n",
      "Epoch 85/100\n",
      "49/49 [==============================] - 0s 3ms/step - loss: 1.8196 - accuracy: 0.5019\n",
      "Epoch 86/100\n",
      "49/49 [==============================] - 0s 3ms/step - loss: 1.8447 - accuracy: 0.4942\n",
      "Epoch 87/100\n",
      "49/49 [==============================] - 0s 3ms/step - loss: 1.8175 - accuracy: 0.4955\n",
      "Epoch 88/100\n",
      "49/49 [==============================] - 0s 3ms/step - loss: 1.8064 - accuracy: 0.5227\n",
      "Epoch 89/100\n",
      "49/49 [==============================] - 0s 3ms/step - loss: 1.8103 - accuracy: 0.5182\n",
      "Epoch 90/100\n",
      "49/49 [==============================] - 0s 3ms/step - loss: 1.8127 - accuracy: 0.5104\n",
      "Epoch 91/100\n",
      "49/49 [==============================] - 0s 2ms/step - loss: 1.8168 - accuracy: 0.5175\n",
      "Epoch 92/100\n",
      "49/49 [==============================] - 0s 2ms/step - loss: 1.8090 - accuracy: 0.4955\n",
      "Epoch 93/100\n",
      "49/49 [==============================] - 0s 2ms/step - loss: 1.8057 - accuracy: 0.5136\n",
      "Epoch 94/100\n",
      "49/49 [==============================] - 0s 3ms/step - loss: 1.8086 - accuracy: 0.5045\n",
      "Epoch 95/100\n",
      "49/49 [==============================] - 0s 3ms/step - loss: 1.8088 - accuracy: 0.5149\n",
      "Epoch 96/100\n",
      "49/49 [==============================] - 0s 3ms/step - loss: 1.8061 - accuracy: 0.5169\n",
      "Epoch 97/100\n",
      "49/49 [==============================] - 0s 3ms/step - loss: 1.8008 - accuracy: 0.5175: 0s - loss: 1.6668 - accuracy: 0.\n",
      "Epoch 98/100\n",
      "49/49 [==============================] - 0s 2ms/step - loss: 1.8012 - accuracy: 0.5188\n",
      "Epoch 99/100\n",
      "49/49 [==============================] - 0s 3ms/step - loss: 1.7993 - accuracy: 0.5182\n",
      "Epoch 100/100\n",
      "49/49 [==============================] - 0s 3ms/step - loss: 1.7960 - accuracy: 0.5201\n"
     ]
    },
    {
     "data": {
      "text/plain": [
       "<tensorflow.python.keras.callbacks.History at 0x26610ccb8b0>"
      ]
     },
     "execution_count": 60,
     "metadata": {},
     "output_type": "execute_result"
    }
   ],
   "source": [
    "model.fit(x_train,y_train,epochs=100)"
   ]
  },
  {
   "cell_type": "code",
   "execution_count": 61,
   "id": "f8dfb3b4",
   "metadata": {},
   "outputs": [
    {
     "name": "stdout",
     "output_type": "stream",
     "text": [
      "21/21 [==============================] - 0s 2ms/step - loss: 1.8252 - accuracy: 0.4985\n"
     ]
    },
    {
     "data": {
      "text/plain": [
       "[1.8251570463180542, 0.49848484992980957]"
      ]
     },
     "execution_count": 61,
     "metadata": {},
     "output_type": "execute_result"
    }
   ],
   "source": [
    "model.evaluate(x_test,y_test)"
   ]
  },
  {
   "cell_type": "code",
   "execution_count": 62,
   "id": "620da659",
   "metadata": {},
   "outputs": [],
   "source": [
    "pred=model.predict(x_test)"
   ]
  },
  {
   "cell_type": "code",
   "execution_count": 63,
   "id": "6150f46f",
   "metadata": {
    "scrolled": true
   },
   "outputs": [],
   "source": [
    "# lr_cm=confusion_matrix(y_test,pred)\n",
    "# plt.title(\"Neural Network\")\n",
    "# sns.heatmap(lr_cm,annot=True,cmap=\"Blues\",fmt=\"d\",cbar=False)"
   ]
  },
  {
   "cell_type": "code",
   "execution_count": 64,
   "id": "74bffd6b",
   "metadata": {},
   "outputs": [],
   "source": [
    "pred=np.argmax(pred, axis=1)"
   ]
  },
  {
   "cell_type": "code",
   "execution_count": 65,
   "id": "c7d469de",
   "metadata": {},
   "outputs": [
    {
     "name": "stdout",
     "output_type": "stream",
     "text": [
      "21/21 [==============================] - 0s 2ms/step - loss: 1.8252 - accuracy: 0.4985\n"
     ]
    }
   ],
   "source": [
    "a=model.evaluate(x_test,y_test)"
   ]
  },
  {
   "cell_type": "code",
   "execution_count": 66,
   "id": "fb0a021e",
   "metadata": {},
   "outputs": [
    {
     "data": {
      "text/plain": [
       "0.49848484992980957"
      ]
     },
     "execution_count": 66,
     "metadata": {},
     "output_type": "execute_result"
    }
   ],
   "source": [
    "a[1]"
   ]
  },
  {
   "cell_type": "code",
   "execution_count": 67,
   "id": "408b21a9",
   "metadata": {},
   "outputs": [
    {
     "name": "stdout",
     "output_type": "stream",
     "text": [
      "The Precision achieved using Logistic Regression is: 0.6022533991369402\n",
      "The Precision achieved using Support Vector Machine is: 0.7307528522348\n",
      "The Precision achieved using Naive Bayes is: 0.7887125353813634\n",
      "The Precision achieved using Decision Tree is: 0.7382645689984784\n",
      "The Precision achieved using Random Forest is: 0.7559458166766843\n",
      "The Precision achieved using Ada Boost is: 0.7709087035981242\n"
     ]
    }
   ],
   "source": [
    "scores = [score_lr_precision,score_svm_precision,score_nb_precision,score_dt_precision,score_rf_precision,score_ada_precision]\n",
    "algorithms = [\"Logistic Regression\",\"Support Vector Machine\",\"Naive Bayes\",\"Decision Tree\",\"Random Forest\",\"Ada Boost\"]    \n",
    "\n",
    "\n",
    "for i in range(len(algorithms)):\n",
    "    print(\"The Precision achieved using \"+algorithms[i]+\" is: \"+str(scores[i]))"
   ]
  },
  {
   "cell_type": "code",
   "execution_count": 68,
   "id": "074eb87d",
   "metadata": {},
   "outputs": [
    {
     "name": "stderr",
     "output_type": "stream",
     "text": [
      "C:\\Users\\Pratiksha Ramteke\\anaconda3\\envs\\project\\lib\\site-packages\\seaborn\\_decorators.py:36: FutureWarning: Pass the following variables as keyword args: x, y. From version 0.12, the only valid positional argument will be `data`, and passing other arguments without an explicit keyword will result in an error or misinterpretation.\n",
      "  warnings.warn(\n"
     ]
    },
    {
     "data": {
      "image/png": "[encoded data removed]",
      "text/plain": [
       "<Figure size 1080x576 with 1 Axes>"
      ]
     },
     "metadata": {},
     "output_type": "display_data"
    }
   ],
   "source": [
    "sns.set(rc={'figure.figsize':(15,8)})\n",
    "plt.xlabel(\"Algorithms\")\n",
    "plt.ylabel(\"Precision\")\n",
    "\n",
    "sns.barplot(algorithms,scores)\n",
    "plt.show()"
   ]
  },
  {
   "cell_type": "code",
   "execution_count": 69,
   "id": "7eb15006",
   "metadata": {},
   "outputs": [
    {
     "name": "stdout",
     "output_type": "stream",
     "text": [
      "The Recall achieved using Logistic Regression is: 60.23\n",
      "The Recall achieved using Support Vector Machine is: 73.08\n",
      "The Recall achieved using Naive Bayes is: 78.87\n",
      "The Recall achieved using Decision Tree is: 73.83\n",
      "The Recall achieved using Random Forest is: 75.59\n",
      "The Recall achieved using Ada Boost is: 77.09\n"
     ]
    }
   ],
   "source": [
    "scores = [score_lr_recall,score_svm_recall,score_nb_recall,score_dt_recall,score_rf_recall,score_ada_recall]\n",
    "algorithms = [\"Logistic Regression\",\"Support Vector Machine\",\"Naive Bayes\",\"Decision Tree\",\"Random Forest\",\"Ada Boost\"]    \n",
    "\n",
    "\n",
    "for i in range(len(algorithms)):\n",
    "    print(\"The Recall achieved using \"+algorithms[i]+\" is: \"+str(scores[i]))"
   ]
  },
  {
   "cell_type": "code",
   "execution_count": 70,
   "id": "32ff7d48",
   "metadata": {},
   "outputs": [
    {
     "name": "stderr",
     "output_type": "stream",
     "text": [
      "C:\\Users\\Pratiksha Ramteke\\anaconda3\\envs\\project\\lib\\site-packages\\seaborn\\_decorators.py:36: FutureWarning: Pass the following variables as keyword args: x, y. From version 0.12, the only valid positional argument will be `data`, and passing other arguments without an explicit keyword will result in an error or misinterpretation.\n",
      "  warnings.warn(\n"
     ]
    },
    {
     "data": {
      "image/png": "[encoded data removed]",
      "text/plain": [
       "<Figure size 1080x576 with 1 Axes>"
      ]
     },
     "metadata": {},
     "output_type": "display_data"
    }
   ],
   "source": [
    "sns.set(rc={'figure.figsize':(15,8)})\n",
    "plt.xlabel(\"Algorithms\")\n",
    "plt.ylabel(\"Recall\")\n",
    "\n",
    "sns.barplot(algorithms,scores)\n",
    "plt.show()"
   ]
  },
  {
   "cell_type": "code",
   "execution_count": 71,
   "id": "9bf99763",
   "metadata": {},
   "outputs": [
    {
     "name": "stdout",
     "output_type": "stream",
     "text": [
      "The F1 Score achieved using Logistic Regression is: 58.69\n",
      "The F1 Score achieved using Support Vector Machine is: 71.65\n",
      "The F1 Score achieved using Naive Bayes is: 78.11\n",
      "The F1 Score achieved using Decision Tree is: 73.96\n",
      "The F1 Score achieved using Random Forest is: 75.04\n",
      "The F1 Score achieved using Ada Boost is: 76.54\n"
     ]
    }
   ],
   "source": [
    "scores = [score_lr_f1_score,score_svm_f1_score,score_nb_f1_score,score_dt_f1_score,score_rf_f1_score,score_ada_f1_score]\n",
    "algorithms = [\"Logistic Regression\",\"Support Vector Machine\",\"Naive Bayes\",\"Decision Tree\",\"Random Forest\",\"Ada Boost\"]    \n",
    "\n",
    "\n",
    "for i in range(len(algorithms)):\n",
    "    print(\"The F1 Score achieved using \"+algorithms[i]+\" is: \"+str(scores[i]))"
   ]
  },
  {
   "cell_type": "code",
   "execution_count": 72,
   "id": "01f2b3d6",
   "metadata": {},
   "outputs": [
    {
     "name": "stderr",
     "output_type": "stream",
     "text": [
      "C:\\Users\\Pratiksha Ramteke\\anaconda3\\envs\\project\\lib\\site-packages\\seaborn\\_decorators.py:36: FutureWarning: Pass the following variables as keyword args: x, y. From version 0.12, the only valid positional argument will be `data`, and passing other arguments without an explicit keyword will result in an error or misinterpretation.\n",
      "  warnings.warn(\n"
     ]
    },
    {
     "data": {
      "image/png": "[encoded data removed]",
      "text/plain": [
       "<Figure size 1080x576 with 1 Axes>"
      ]
     },
     "metadata": {},
     "output_type": "display_data"
    }
   ],
   "source": [
    "sns.set(rc={'figure.figsize':(15,8)})\n",
    "plt.xlabel(\"Algorithms\")\n",
    "plt.ylabel(\"F1 Score\")\n",
    "\n",
    "sns.barplot(algorithms,scores)\n",
    "plt.show()"
   ]
  },
  {
   "cell_type": "code",
   "execution_count": 73,
   "id": "cd888535",
   "metadata": {},
   "outputs": [
    {
     "name": "stdout",
     "output_type": "stream",
     "text": [
      "The Accuracy Score achieved using Logistic Regression is: 60.0\n",
      "The Accuracy Score achieved using Support Vector Machine is: 72.73\n",
      "The Accuracy Score achieved using Naive Bayes is: 78.79\n",
      "The Accuracy Score achieved using Decision Tree is: 75.0\n",
      "The Accuracy Score achieved using Random Forest is: 76.36\n",
      "The Accuracy Score achieved using Ada Boost is: 77.73\n"
     ]
    }
   ],
   "source": [
    "scores = [score_lr,score_svm,score_nb,score_dt,score_rf,score_ada]\n",
    "algorithms = [\"Logistic Regression\",\"Support Vector Machine\",\"Naive Bayes\",\"Decision Tree\",\"Random Forest\",\"Ada Boost\"]    \n",
    "\n",
    "\n",
    "for i in range(len(algorithms)):\n",
    "    print(\"The Accuracy Score achieved using \"+algorithms[i]+\" is: \"+str(scores[i]))"
   ]
  },
  {
   "cell_type": "code",
   "execution_count": 74,
   "id": "c772a5e5",
   "metadata": {},
   "outputs": [
    {
     "name": "stderr",
     "output_type": "stream",
     "text": [
      "C:\\Users\\Pratiksha Ramteke\\anaconda3\\envs\\project\\lib\\site-packages\\seaborn\\_decorators.py:36: FutureWarning: Pass the following variables as keyword args: x, y. From version 0.12, the only valid positional argument will be `data`, and passing other arguments without an explicit keyword will result in an error or misinterpretation.\n",
      "  warnings.warn(\n"
     ]
    },
    {
     "data": {
      "image/png": "[encoded data removed]",
      "text/plain": [
       "<Figure size 1080x576 with 1 Axes>"
      ]
     },
     "metadata": {},
     "output_type": "display_data"
    }
   ],
   "source": [
    "sns.set(rc={'figure.figsize':(15,8)})\n",
    "plt.xlabel(\"Algorithms\")\n",
    "plt.ylabel(\"Accuracy\")\n",
    "\n",
    "sns.barplot(algorithms,scores)\n",
    "plt.show()"
   ]
  },
  {
   "cell_type": "code",
   "execution_count": 75,
   "id": "8d672500",
   "metadata": {},
   "outputs": [
    {
     "data": {
      "text/plain": [
       "N           80.000000\n",
       "P           71.000000\n",
       "K           47.000000\n",
       "ph           6.156373\n",
       "Moisture    49.000000\n",
       "label        1.000000\n",
       "Name: 1023, dtype: float64"
      ]
     },
     "execution_count": 75,
     "metadata": {},
     "output_type": "execute_result"
    }
   ],
   "source": [
    "dff_new.loc[1023]"
   ]
  },
  {
   "cell_type": "code",
   "execution_count": 76,
   "id": "da3d7aa1",
   "metadata": {
    "scrolled": true
   },
   "outputs": [
    {
     "data": {
      "text/plain": [
       "array([ 4, 11,  6,  2, 12, 19,  3, 19,  1,  4,  1, 16, 20, 11,  5,  3,  2,\n",
       "       20, 19, 10, 16, 12, 16, 16, 12, 12, 20,  3,  9, 18,  5,  5,  1, 12,\n",
       "        3, 14,  5,  5, 16, 16, 19,  8, 11,  5,  6, 12,  5, 20,  5, 14, 12,\n",
       "       14,  5, 13,  5,  6,  8,  4, 14, 20,  8, 19, 14, 18,  3, 11,  5,  5,\n",
       "        1, 20,  3,  9, 12, 19,  8,  3,  2,  1,  6,  3,  1,  5,  2, 12, 16,\n",
       "       20, 14, 12,  1,  3,  3,  6, 12, 19,  8, 12, 19, 19,  3, 19,  2, 19,\n",
       "        8, 18, 19,  8,  2,  9,  4,  3, 13,  2, 11, 19, 12, 16, 11,  5,  5,\n",
       "        2, 14, 11, 19, 12,  1, 19,  5, 11, 19,  3,  2,  3,  8,  8, 13,  9,\n",
       "        2,  2, 12,  5,  1,  2,  4, 11,  6,  5, 10, 12,  1,  3,  8,  9,  5,\n",
       "        4,  2,  9,  9,  8, 20,  2,  6, 12,  4,  8,  4,  8, 18, 14,  9,  5,\n",
       "       20, 16, 11, 20, 10,  1, 12,  3, 20,  5,  4, 18,  3, 12,  5, 20, 19,\n",
       "       20, 11, 14, 11,  3,  8,  5,  5,  3, 19,  8,  6, 13, 20,  8, 10,  3,\n",
       "        9, 14, 18,  9,  1,  1, 20,  3,  9, 14,  2,  1, 20,  3,  8, 19,  8,\n",
       "       12, 12, 20, 20, 10, 14,  6,  9, 20, 20, 10,  5, 16, 10,  3, 20, 14,\n",
       "       19,  5,  5, 20, 19, 11, 13, 10, 11,  6, 12, 16, 10,  3,  9,  5, 10,\n",
       "       14, 19, 16,  3, 14,  1, 20,  6,  2,  3, 14,  1,  8,  2, 12,  5, 12,\n",
       "       13, 14,  2, 20,  8, 16,  2, 20, 10, 19,  8, 20, 19,  3,  1, 18,  5,\n",
       "        2, 10,  3,  3,  2, 19,  3,  9, 18,  1, 20,  4,  1, 20, 20, 14,  4,\n",
       "        1, 12,  2,  1, 16,  3, 16, 18, 12, 11,  6, 19,  1, 19,  8,  3,  5,\n",
       "        3, 18, 10,  3,  9,  5, 20, 19,  2, 20, 10, 11,  2,  3,  6,  3, 10,\n",
       "        4,  4,  6,  6, 20, 18, 18,  6, 14, 12, 16,  1,  3, 14, 20, 10,  9,\n",
       "        8, 12, 14,  6, 18, 11, 13, 16, 19, 12, 19, 10, 13,  3,  4, 12,  5,\n",
       "        3, 10, 10,  3,  4,  3,  8, 12,  3,  3,  6, 11,  3,  5, 20, 20, 12,\n",
       "        3,  6,  8,  1,  9, 12, 19, 16, 16, 19,  4,  5,  4, 10,  9,  3,  6,\n",
       "        2,  5, 11, 14,  2,  5,  3,  3,  9, 12,  3,  6,  1,  1,  8,  9,  4,\n",
       "        9, 12,  3,  3, 12, 10, 20, 16, 16,  2,  9, 18,  9, 14, 12, 11,  3,\n",
       "        3, 19,  3, 20,  5, 10, 20,  4,  3,  3,  3, 16,  4,  4, 16,  1, 14,\n",
       "        4, 18,  2,  3, 12, 20, 20,  1, 14,  5, 20, 18, 10,  3, 19,  9,  9,\n",
       "       10,  3, 12, 18,  2, 16,  8,  8,  3,  5,  1,  8,  5,  9,  3, 14, 12,\n",
       "        1,  1, 13, 10,  4,  8,  9,  3, 14,  1,  6, 20,  3,  4, 18,  1, 20,\n",
       "        3,  9,  3, 20,  8,  5, 19, 10, 16,  6, 10,  6, 20,  5,  8, 20, 20,\n",
       "        3,  5, 11,  3, 18, 14,  1,  3, 10,  4,  3,  9, 12,  5,  6, 20, 20,\n",
       "       19,  1,  3,  5, 16, 14,  3,  8,  8,  6,  5, 11, 16, 14,  2,  8, 10,\n",
       "       18,  2, 14,  2,  2, 18,  4, 11,  8,  6, 19, 20,  8, 20, 12, 14,  3,\n",
       "       13,  9,  3, 12, 20,  6, 18, 12,  8,  3,  2, 14,  5,  1, 20, 13, 14,\n",
       "        3,  2, 20, 10,  2, 20, 11,  5,  6, 13, 11,  3,  5,  9,  2, 12,  6,\n",
       "       20,  5, 20, 20,  3, 14,  3, 19,  4,  3,  3,  9,  3, 20,  4, 11, 20,\n",
       "        3,  5,  8, 10, 20, 19, 10,  2,  1,  6, 13,  5,  5,  3, 13,  9,  5,\n",
       "        9, 13, 16, 18, 19, 11,  3,  1,  4, 20, 16,  5, 16,  4],\n",
       "      dtype=int64)"
      ]
     },
     "execution_count": 76,
     "metadata": {},
     "output_type": "execute_result"
    }
   ],
   "source": [
    "pred"
   ]
  },
  {
   "cell_type": "code",
   "execution_count": 77,
   "id": "7fcbaf61",
   "metadata": {},
   "outputs": [],
   "source": [
    "# import math\n",
    "# a=np.ceil((max(pred[3])*10))"
   ]
  },
  {
   "cell_type": "code",
   "execution_count": 78,
   "id": "e711b0f8",
   "metadata": {},
   "outputs": [],
   "source": [
    "# le.inverse_transform([int(a)])"
   ]
  },
  {
   "cell_type": "code",
   "execution_count": 79,
   "id": "5901d158",
   "metadata": {},
   "outputs": [
    {
     "name": "stdout",
     "output_type": "stream",
     "text": [
      "WARNING:tensorflow:From C:\\Users\\Pratiksha Ramteke\\AppData\\Roaming\\Python\\Python38\\site-packages\\tensorflow\\python\\training\\tracking\\tracking.py:111: Model.state_updates (from tensorflow.python.keras.engine.training) is deprecated and will be removed in a future version.\n",
      "Instructions for updating:\n",
      "This property should not be used in TensorFlow 2.0, as updates are applied automatically.\n",
      "WARNING:tensorflow:From C:\\Users\\Pratiksha Ramteke\\AppData\\Roaming\\Python\\Python38\\site-packages\\tensorflow\\python\\training\\tracking\\tracking.py:111: Layer.updates (from tensorflow.python.keras.engine.base_layer) is deprecated and will be removed in a future version.\n",
      "Instructions for updating:\n",
      "This property should not be used in TensorFlow 2.0, as updates are applied automatically.\n",
      "INFO:tensorflow:Assets written to: Neural_Networks_MPH.hp5\\assets\n"
     ]
    }
   ],
   "source": [
    "model.save('Neural_Networks_MPH.hp5')"
   ]
  },
  {
   "cell_type": "code",
   "execution_count": 80,
   "id": "0e8b9ef0",
   "metadata": {},
   "outputs": [
    {
     "name": "stdout",
     "output_type": "stream",
     "text": [
      "Enter Moisture:38\n",
      "Enter Ph-Value:6\n"
     ]
    }
   ],
   "source": [
    "import pandas as pd\n",
    "dict = {\n",
    "        'Moisture':float(input(\"Enter Moisture:\")),\n",
    "        'Ph value':float(input(\"Enter Ph-Value:\"))}\n",
    "dff=pd.DataFrame(dict,index=[0])"
   ]
  },
  {
   "cell_type": "code",
   "execution_count": 81,
   "id": "34f1aa2e",
   "metadata": {},
   "outputs": [
    {
     "name": "stderr",
     "output_type": "stream",
     "text": [
      "C:\\Users\\Pratiksha Ramteke\\anaconda3\\envs\\project\\lib\\site-packages\\sklearn\\base.py:443: UserWarning: X has feature names, but AdaBoostClassifier was fitted without feature names\n",
      "  warnings.warn(\n",
      "C:\\Users\\Pratiksha Ramteke\\anaconda3\\envs\\project\\lib\\site-packages\\sklearn\\base.py:443: UserWarning: X has feature names, but AdaBoostClassifier was fitted without feature names\n",
      "  warnings.warn(\n"
     ]
    },
    {
     "name": "stdout",
     "output_type": "stream",
     "text": [
      "Nitrogen is  37\n",
      "Potassium is 0\n",
      "Phosphorous is 0\n"
     ]
    },
    {
     "name": "stderr",
     "output_type": "stream",
     "text": [
      "C:\\Users\\Pratiksha Ramteke\\anaconda3\\envs\\project\\lib\\site-packages\\sklearn\\base.py:443: UserWarning: X has feature names, but AdaBoostClassifier was fitted without feature names\n",
      "  warnings.warn(\n"
     ]
    }
   ],
   "source": [
    "with open('model_nitrogen_moisture_ph_ada.sav','rb') as f:\n",
    "    ts=pickle.load(f)\n",
    "led=ts.predict(dff)\n",
    "nitrogen=led[0]\n",
    "print(\"Nitrogen is \",nitrogen)\n",
    "import pickle\n",
    "with open('model_Potassium_moisture_ph_ada.sav','rb') as f:\n",
    "    ss=pickle.load(f)\n",
    "d=ss.predict(dff)\n",
    "potassium=d[0]\n",
    "print(\"Potassium is\",potassium)\n",
    "with open('model_Phosphorous_moisture_ph_ada.sav','rb') as f:\n",
    "    st=pickle.load(f)\n",
    "ed=st.predict(dff)\n",
    "phosphorous=ed[0]\n",
    "print(\"Phosphorous is\",phosphorous)"
   ]
  },
  {
   "cell_type": "code",
   "execution_count": 82,
   "id": "1abb1a9f",
   "metadata": {},
   "outputs": [
    {
     "name": "stdout",
     "output_type": "stream",
     "text": [
      "Recommended Crop By Logidtic Regression  ['coffee']\n"
     ]
    },
    {
     "name": "stderr",
     "output_type": "stream",
     "text": [
      "C:\\Users\\Pratiksha Ramteke\\anaconda3\\envs\\project\\lib\\site-packages\\sklearn\\base.py:450: UserWarning: X does not have valid feature names, but LogisticRegression was fitted with feature names\n",
      "  warnings.warn(\n"
     ]
    }
   ],
   "source": [
    "with open('model_MPH_LR_newest.sav','rb') as f:\n",
    "    ts=pickle.load(f)\n",
    "led=ts.predict([[nitrogen,phosphorous,potassium,list(dff.loc[0])[0],list(dff.loc[0])[1]]])\n",
    "lr_output=led[0]\n",
    "print(\"Recommended Crop By Logidtic Regression \",le.inverse_transform([int(lr_output)]))"
   ]
  },
  {
   "cell_type": "code",
   "execution_count": 83,
   "id": "c46ad1a8",
   "metadata": {},
   "outputs": [
    {
     "name": "stdout",
     "output_type": "stream",
     "text": [
      "Recommended Crop By Naive Bayes  ['mothbeans']\n"
     ]
    },
    {
     "name": "stderr",
     "output_type": "stream",
     "text": [
      "C:\\Users\\Pratiksha Ramteke\\anaconda3\\envs\\project\\lib\\site-packages\\sklearn\\base.py:450: UserWarning: X does not have valid feature names, but GaussianNB was fitted with feature names\n",
      "  warnings.warn(\n"
     ]
    }
   ],
   "source": [
    "with open('model_MPH_NB_newest.sav','rb') as f:\n",
    "    ts=pickle.load(f)\n",
    "led=ts.predict([[nitrogen,phosphorous,potassium,list(dff.loc[0])[0],list(dff.loc[0])[1]]])\n",
    "lr_output=led[0]\n",
    "print(\"Recommended Crop By Naive Bayes \",le.inverse_transform([int(lr_output)]))"
   ]
  },
  {
   "cell_type": "code",
   "execution_count": 84,
   "id": "7b3fca2b",
   "metadata": {},
   "outputs": [
    {
     "name": "stdout",
     "output_type": "stream",
     "text": [
      "Recommended Crop By Decision Tree  ['orange']\n"
     ]
    },
    {
     "name": "stderr",
     "output_type": "stream",
     "text": [
      "C:\\Users\\Pratiksha Ramteke\\anaconda3\\envs\\project\\lib\\site-packages\\sklearn\\base.py:450: UserWarning: X does not have valid feature names, but DecisionTreeClassifier was fitted with feature names\n",
      "  warnings.warn(\n"
     ]
    }
   ],
   "source": [
    "with open('model_MPH_DT_newest.sav','rb') as f:\n",
    "    ts=pickle.load(f)\n",
    "led=ts.predict([[nitrogen,phosphorous,potassium,list(dff.loc[0])[0],list(dff.loc[0])[1]]])\n",
    "lr_output=led[0]\n",
    "print(\"Recommended Crop By Decision Tree \",le.inverse_transform([int(lr_output)]))"
   ]
  },
  {
   "cell_type": "code",
   "execution_count": 85,
   "id": "45caa8c7",
   "metadata": {},
   "outputs": [
    {
     "name": "stdout",
     "output_type": "stream",
     "text": [
      "Recommended Crop By SVM  ['orange']\n"
     ]
    },
    {
     "name": "stderr",
     "output_type": "stream",
     "text": [
      "C:\\Users\\Pratiksha Ramteke\\anaconda3\\envs\\project\\lib\\site-packages\\sklearn\\base.py:450: UserWarning: X does not have valid feature names, but SVC was fitted with feature names\n",
      "  warnings.warn(\n"
     ]
    }
   ],
   "source": [
    "with open('model_MPH_SVM_newest.sav','rb') as f:\n",
    "    ts=pickle.load(f)\n",
    "led=ts.predict([[nitrogen,phosphorous,potassium,list(dff.loc[0])[0],list(dff.loc[0])[1]]])\n",
    "lr_output=led[0]\n",
    "print(\"Recommended Crop By SVM \",le.inverse_transform([int(lr_output)]))"
   ]
  },
  {
   "cell_type": "code",
   "execution_count": 86,
   "id": "9f0e315b",
   "metadata": {},
   "outputs": [
    {
     "name": "stdout",
     "output_type": "stream",
     "text": [
      "Recommended Crop By RF  ['orange']\n"
     ]
    },
    {
     "name": "stderr",
     "output_type": "stream",
     "text": [
      "C:\\Users\\Pratiksha Ramteke\\anaconda3\\envs\\project\\lib\\site-packages\\sklearn\\base.py:450: UserWarning: X does not have valid feature names, but RandomForestClassifier was fitted with feature names\n",
      "  warnings.warn(\n",
      "[Parallel(n_jobs=2)]: Using backend ThreadingBackend with 2 concurrent workers.\n",
      "[Parallel(n_jobs=2)]: Done  10 out of  10 | elapsed:    0.0s finished\n"
     ]
    }
   ],
   "source": [
    "with open('model_MPH_RF_newest.sav','rb') as f:\n",
    "    ts=pickle.load(f)\n",
    "led=ts.predict([[nitrogen,phosphorous,potassium,list(dff.loc[0])[0],list(dff.loc[0])[1]]])\n",
    "lr_output=led[0]\n",
    "print(\"Recommended Crop By RF \",le.inverse_transform([int(lr_output)]))"
   ]
  },
  {
   "cell_type": "code",
   "execution_count": 87,
   "id": "06d652e9",
   "metadata": {},
   "outputs": [
    {
     "name": "stderr",
     "output_type": "stream",
     "text": [
      "C:\\Users\\Pratiksha Ramteke\\anaconda3\\envs\\project\\lib\\site-packages\\sklearn\\base.py:450: UserWarning: X does not have valid feature names, but AdaBoostClassifier was fitted with feature names\n",
      "  warnings.warn(\n"
     ]
    },
    {
     "name": "stdout",
     "output_type": "stream",
     "text": [
      "Recommended Crop By ADA  ['orange']\n"
     ]
    }
   ],
   "source": [
    "with open('model_MPH_ADA_newest.sav','rb') as f:\n",
    "    ts=pickle.load(f)\n",
    "led=ts.predict([[nitrogen,phosphorous,potassium,list(dff.loc[0])[0],list(dff.loc[0])[1]]])\n",
    "lr_output=led[0]\n",
    "print(\"Recommended Crop By ADA \",le.inverse_transform([int(lr_output)]))"
   ]
  },
  {
   "cell_type": "code",
   "execution_count": 88,
   "id": "64454009",
   "metadata": {},
   "outputs": [
    {
     "name": "stdout",
     "output_type": "stream",
     "text": [
      "Recommended Crop By NN  ['orange']\n"
     ]
    }
   ],
   "source": [
    "import tensorflow\n",
    "filename='Neural_Networks_MPH.hp5'\n",
    "loaded_model_nn = tensorflow.keras.models.load_model(filename)\n",
    "rf=loaded_model_nn.predict([[int(nitrogen),int(phosphorous),int(potassium),int(list(dff.loc[0])[0]),int(list(dff.loc[0])[1])]])\n",
    "print(\"Recommended Crop By NN \",le.inverse_transform([int(lr_output)]))"
   ]
  },
  {
   "cell_type": "code",
   "execution_count": null,
   "id": "e958acbe",
   "metadata": {},
   "outputs": [],
   "source": []
  },
  {
   "cell_type": "code",
   "execution_count": null,
   "id": "0f699cce",
   "metadata": {},
   "outputs": [],
   "source": []
  },
  {
   "cell_type": "code",
   "execution_count": null,
   "id": "78f87770",
   "metadata": {},
   "outputs": [],
   "source": []
  }
 ],
 "metadata": {
  "kernelspec": {
   "display_name": "Python 3 (ipykernel)",
   "language": "python",
   "name": "python3"
  },
  "language_info": {
   "codemirror_mode": {
    "name": "ipython",
    "version": 3
   },
   "file_extension": ".py",
   "mimetype": "text/x-python",
   "name": "python",
   "nbconvert_exporter": "python",
   "pygments_lexer": "ipython3",
   "version": "3.9.7"
  }
 },
 "nbformat": 4,
 "nbformat_minor": 5
}
