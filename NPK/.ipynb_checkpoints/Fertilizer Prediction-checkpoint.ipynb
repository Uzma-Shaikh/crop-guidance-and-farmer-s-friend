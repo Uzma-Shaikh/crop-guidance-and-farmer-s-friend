{
 "cells": [
  {
   "cell_type": "code",
   "execution_count": null,
   "id": "480f4e98",
   "metadata": {},
   "outputs": [],
   "source": [
    "from sklearn.ensemble import AdaBoostClassifier \n",
    "from sklearn.tree import DecisionTreeClassifier\n",
    "import pandas as pd\n",
    "from sklearn.ensemble import AdaBoostClassifier\n",
    "from sklearn.tree import DecisionTreeClassifier\n",
    "from sklearn import metrics\n",
    "from sklearn.tree import DecisionTreeClassifier\n",
    "from sklearn.model_selection import train_test_split\n",
    "from sklearn.metrics import roc_curve,roc_auc_score,f1_score\n",
    "from sklearn.ensemble import RandomForestClassifier\n",
    "from sklearn.metrics import confusion_matrix\n",
    "from sklearn.metrics import accuracy_score\n",
    "from sklearn.metrics import roc_curve\n",
    "from sklearn.metrics import f1_score\n",
    "from sklearn.metrics import precision_score,recall_score\n",
    "from sklearn.metrics import roc_auc_score,roc_curve\n",
    "import pandas as pd\n",
    "import numpy as np\n",
    "from sklearn.model_selection import train_test_split\n",
    "from sklearn.metrics import confusion_matrix\n",
    "import pickle\n",
    "from sklearn.preprocessing import LabelEncoder"
   ]
  },
  {
   "cell_type": "code",
   "execution_count": null,
   "id": "bf4ca434",
   "metadata": {},
   "outputs": [],
   "source": [
    "ferti=pd.read_csv(\"FertilizerPrediction.csv\",encoding ='latin1')\n",
    "ferti.head(1)"
   ]
  },
  {
   "cell_type": "code",
   "execution_count": null,
   "id": "4eadf92f",
   "metadata": {},
   "outputs": [],
   "source": [
    "a=ferti[['Crop Type','Nitrogen','Potassium','Phosphorous','Fertilizer Name']]"
   ]
  },
  {
   "cell_type": "code",
   "execution_count": null,
   "id": "b1309b19",
   "metadata": {},
   "outputs": [],
   "source": [
    "# a.to_csv(\"Fertilizer_Prediction.csv\")"
   ]
  },
  {
   "cell_type": "code",
   "execution_count": null,
   "id": "542d196d",
   "metadata": {},
   "outputs": [],
   "source": [
    "a"
   ]
  },
  {
   "cell_type": "code",
   "execution_count": null,
   "id": "f227eee6",
   "metadata": {},
   "outputs": [],
   "source": []
  },
  {
   "cell_type": "code",
   "execution_count": null,
   "id": "2bb1899d",
   "metadata": {},
   "outputs": [],
   "source": [
    "a['Fertilizer Name'].unique()"
   ]
  },
  {
   "cell_type": "code",
   "execution_count": null,
   "id": "39e06832",
   "metadata": {},
   "outputs": [],
   "source": [
    "a['Crop Type'].unique()"
   ]
  },
  {
   "cell_type": "code",
   "execution_count": null,
   "id": "dad744da",
   "metadata": {},
   "outputs": [],
   "source": [
    "# a = ['10-26-26','14-35-14', '17-17-17', '20-20', '28-28', 'DAP', 'Urea']\n",
    "# a[6]"
   ]
  },
  {
   "cell_type": "code",
   "execution_count": null,
   "id": "fa2aa30f",
   "metadata": {},
   "outputs": [],
   "source": [
    "from sklearn import preprocessing\n",
    "le = preprocessing.LabelEncoder()\n",
    "a['Fertilizer_Name']=le.fit_transform(a['Fertilizer Name'])\n",
    "a['Crop_Type']=le.fit_transform(a['Crop Type'])"
   ]
  },
  {
   "cell_type": "code",
   "execution_count": null,
   "id": "ee46bb8b",
   "metadata": {},
   "outputs": [],
   "source": [
    "a"
   ]
  },
  {
   "cell_type": "code",
   "execution_count": null,
   "id": "6b3569b2",
   "metadata": {},
   "outputs": [],
   "source": [
    "a.to_csv(\"process_fer.csv\")"
   ]
  },
  {
   "cell_type": "code",
   "execution_count": null,
   "id": "ab3301c5",
   "metadata": {},
   "outputs": [],
   "source": [
    "a['Fertilizer Name'].unique()"
   ]
  },
  {
   "cell_type": "code",
   "execution_count": null,
   "id": "5a18c230",
   "metadata": {},
   "outputs": [],
   "source": [
    "a"
   ]
  },
  {
   "cell_type": "code",
   "execution_count": null,
   "id": "7568ecfb",
   "metadata": {},
   "outputs": [],
   "source": [
    "a[\"Crop Type\"].unique()"
   ]
  },
  {
   "cell_type": "code",
   "execution_count": null,
   "id": "77d812ac",
   "metadata": {},
   "outputs": [],
   "source": [
    "dff_new=a[['Nitrogen','Potassium','Phosphorous','Fertilizer_Name']]"
   ]
  },
  {
   "cell_type": "code",
   "execution_count": null,
   "id": "7fdd59e0",
   "metadata": {},
   "outputs": [],
   "source": [
    "dff_new"
   ]
  },
  {
   "cell_type": "code",
   "execution_count": null,
   "id": "8617799c",
   "metadata": {},
   "outputs": [],
   "source": [
    "x=dff_new.drop(['Fertilizer_Name'],axis=1)#independent\n",
    "y=dff_new['Fertilizer_Name']#dependent"
   ]
  },
  {
   "cell_type": "code",
   "execution_count": null,
   "id": "6f5007e5",
   "metadata": {},
   "outputs": [],
   "source": [
    "x_train,x_test , y_train, y_test = train_test_split(x, y,test_size=0.3)"
   ]
  },
  {
   "cell_type": "code",
   "execution_count": null,
   "id": "b74150ac",
   "metadata": {},
   "outputs": [],
   "source": []
  },
  {
   "cell_type": "code",
   "execution_count": null,
   "id": "752376f1",
   "metadata": {},
   "outputs": [],
   "source": [
    "from sklearn.linear_model import LogisticRegression\n",
    "\n",
    "lr = LogisticRegression()\n",
    "\n",
    "\n",
    "lr.fit(x_train,y_train)#train model\n",
    "\n",
    "Y_pred_lr = lr.predict(x_test)"
   ]
  },
  {
   "cell_type": "code",
   "execution_count": null,
   "id": "34183dfc",
   "metadata": {},
   "outputs": [],
   "source": [
    "score_lr = round(accuracy_score(Y_pred_lr,y_test)*100,2)\n",
    "\n",
    "print(\"The accuracy score achieved using Logistic Regression is: \"+str(score_lr)+\" %\")"
   ]
  },
  {
   "cell_type": "code",
   "execution_count": null,
   "id": "9b904e8a",
   "metadata": {},
   "outputs": [],
   "source": [
    "import matplotlib.pyplot as plt\n",
    "import seaborn as sns\n",
    "lr_cm=confusion_matrix(y_test,Y_pred_lr)\n",
    "plt.title(\"Logistic_Regression\")\n",
    "sns.heatmap(lr_cm,annot=True,cmap=\"Blues\",fmt=\"d\",cbar=False)"
   ]
  },
  {
   "cell_type": "code",
   "execution_count": null,
   "id": "5465a189",
   "metadata": {},
   "outputs": [],
   "source": [
    "from sklearn import metrics\n",
    "score_lr=round(metrics.accuracy_score(y_test,Y_pred_lr)*100,2)\n",
    "score_lr_precision=metrics.precision_score(Y_pred_lr,y_test,average='macro')\n",
    "score_lr_recall=round(metrics.recall_score(y_test,Y_pred_lr,average='macro')*100,2)\n",
    "score_lr_f1_score=round(metrics.f1_score(y_test, Y_pred_lr,average='macro')*100,2)"
   ]
  },
  {
   "cell_type": "code",
   "execution_count": null,
   "id": "9cb1e517",
   "metadata": {},
   "outputs": [],
   "source": [
    "import pickle\n",
    "with open('model_fer_LR_newest.sav','wb') as f:\n",
    "    pickle.dump(lr,f)"
   ]
  },
  {
   "cell_type": "code",
   "execution_count": null,
   "id": "45c25003",
   "metadata": {},
   "outputs": [],
   "source": [
    "from sklearn import svm\n",
    "\n",
    "sv = svm.SVC(kernel='linear')\n",
    "\n",
    "sv.fit(x_train, y_train)\n",
    "\n",
    "Y_pred_svm = sv.predict(x_test)\n",
    "score_svm = round(accuracy_score(Y_pred_svm,y_test)*100,2)"
   ]
  },
  {
   "cell_type": "code",
   "execution_count": null,
   "id": "d585b953",
   "metadata": {},
   "outputs": [],
   "source": [
    "lr_cm=confusion_matrix(y_test,Y_pred_svm)\n",
    "plt.title(\"SVM\")\n",
    "sns.heatmap(lr_cm,annot=True,cmap=\"Blues\",fmt=\"d\",cbar=False)"
   ]
  },
  {
   "cell_type": "code",
   "execution_count": null,
   "id": "2333e6f6",
   "metadata": {},
   "outputs": [],
   "source": [
    "print(\"The accuracy score achieved using Linear SVM is: \"+str(score_svm)+\" %\")"
   ]
  },
  {
   "cell_type": "code",
   "execution_count": null,
   "id": "4c89cf57",
   "metadata": {},
   "outputs": [],
   "source": [
    "from sklearn import metrics\n",
    "score_svm=round(metrics.accuracy_score(y_test,Y_pred_svm)*100,2)\n",
    "score_svm_precision=metrics.precision_score(Y_pred_svm,y_test,average='macro')\n",
    "score_svm_recall=round(metrics.recall_score(y_test,Y_pred_svm,average='macro')*100,2)\n",
    "score_svm_f1_score=round(metrics.f1_score(y_test,Y_pred_svm,average='macro')*100,2)"
   ]
  },
  {
   "cell_type": "code",
   "execution_count": null,
   "id": "5b8a611e",
   "metadata": {},
   "outputs": [],
   "source": [
    "import pickle\n",
    "with open('model_fer_SVM_newest.sav','wb') as f:\n",
    "    pickle.dump(sv,f)"
   ]
  },
  {
   "cell_type": "code",
   "execution_count": null,
   "id": "82a71012",
   "metadata": {},
   "outputs": [],
   "source": [
    "from sklearn.naive_bayes import GaussianNB\n",
    "\n",
    "nb = GaussianNB()\n",
    "\n",
    "nb.fit(x_train,y_train)\n",
    "\n",
    "Y_pred_nb = nb.predict(x_test)"
   ]
  },
  {
   "cell_type": "code",
   "execution_count": null,
   "id": "b3c59c4a",
   "metadata": {},
   "outputs": [],
   "source": [
    "score_nb = round(accuracy_score(Y_pred_nb,y_test)*100,2)\n",
    "\n",
    "print(\"The accuracy score achieved using Naive Bayes is: \"+str(score_nb)+\" %\")"
   ]
  },
  {
   "cell_type": "code",
   "execution_count": null,
   "id": "5c254731",
   "metadata": {},
   "outputs": [],
   "source": [
    "lr_cm=confusion_matrix(y_test,Y_pred_nb)\n",
    "plt.title(\"Naive Bayes\")\n",
    "sns.heatmap(lr_cm,annot=True,cmap=\"Blues\",fmt=\"d\",cbar=False)"
   ]
  },
  {
   "cell_type": "code",
   "execution_count": null,
   "id": "43951e0b",
   "metadata": {},
   "outputs": [],
   "source": [
    "from sklearn import metrics\n",
    "score_nb=round(metrics.accuracy_score(y_test,Y_pred_nb)*100,2)\n",
    "score_nb_precision=metrics.precision_score(Y_pred_nb,y_test,average='macro')\n",
    "score_nb_recall=round(metrics.recall_score(y_test,Y_pred_nb,average='macro')*100,2)\n",
    "score_nb_f1_score=round(metrics.f1_score(y_test,Y_pred_nb,average='macro')*100,2)"
   ]
  },
  {
   "cell_type": "code",
   "execution_count": null,
   "id": "9d6290db",
   "metadata": {},
   "outputs": [],
   "source": [
    "import pickle\n",
    "with open('model_fer_NB_newest.sav','wb') as f:\n",
    "    pickle.dump(nb,f)"
   ]
  },
  {
   "cell_type": "code",
   "execution_count": null,
   "id": "02713448",
   "metadata": {},
   "outputs": [],
   "source": [
    "dt=DecisionTreeClassifier()\n",
    "dt.fit(x_train,y_train)\n",
    "Y_pred_dt = dt.predict(x_test)\n",
    "score_dt = round(accuracy_score(Y_pred_dt,y_test)*100,2)\n",
    "\n",
    "print(\"The accuracy score achieved using Decision Tree is: \"+str(score_dt)+\" %\")"
   ]
  },
  {
   "cell_type": "code",
   "execution_count": null,
   "id": "a2d99456",
   "metadata": {},
   "outputs": [],
   "source": [
    "lr_cm=confusion_matrix(y_test,Y_pred_dt)\n",
    "plt.title(\"Decision Tree\")\n",
    "sns.heatmap(lr_cm,annot=True,cmap=\"Blues\",fmt=\"d\",cbar=False)"
   ]
  },
  {
   "cell_type": "code",
   "execution_count": null,
   "id": "729f2f7c",
   "metadata": {},
   "outputs": [],
   "source": [
    "from sklearn import metrics\n",
    "score_dt=round(metrics.accuracy_score(y_test,Y_pred_dt)*100,2)\n",
    "score_dt_precision=metrics.precision_score(Y_pred_dt,y_test,average='macro')\n",
    "score_dt_recall=round(metrics.recall_score(y_test,Y_pred_dt,average='macro')*100,2)\n",
    "score_dt_f1_score=round(metrics.f1_score(y_test,Y_pred_dt,average='macro')*100,2)"
   ]
  },
  {
   "cell_type": "code",
   "execution_count": null,
   "id": "f24a90a1",
   "metadata": {},
   "outputs": [],
   "source": [
    "import pickle\n",
    "with open('model_fer_DT_newest.sav','wb') as f:\n",
    "    pickle.dump(dt,f)"
   ]
  },
  {
   "cell_type": "code",
   "execution_count": null,
   "id": "f9906114",
   "metadata": {},
   "outputs": [],
   "source": [
    "rfc=RandomForestClassifier(n_estimators=10,n_jobs=2,verbose=2)\n",
    "rfc.fit(x_train,y_train)\n",
    "score_rf=rfc.score(x_test,y_test)\n",
    "Y_pred_rf = rfc.predict(x_test)\n",
    "score_rf=round(accuracy_score(Y_pred_rf,y_test)*100,2)"
   ]
  },
  {
   "cell_type": "code",
   "execution_count": null,
   "id": "34f2a818",
   "metadata": {},
   "outputs": [],
   "source": [
    "print(\"The accuracy score achieved using Random Forest is: \"+str(score_rf)+\" %\")\n",
    "lr_cm=confusion_matrix(y_test,Y_pred_dt)\n",
    "plt.title(\"Random Forest\")\n",
    "sns.heatmap(lr_cm,annot=True,cmap=\"Blues\",fmt=\"d\",cbar=False)"
   ]
  },
  {
   "cell_type": "code",
   "execution_count": null,
   "id": "28e8a49d",
   "metadata": {},
   "outputs": [],
   "source": [
    "from sklearn import metrics\n",
    "score_rf=round(metrics.accuracy_score(y_test,Y_pred_rf)*100,2)\n",
    "score_rf_precision=metrics.precision_score(Y_pred_rf,y_test,average='macro')\n",
    "score_rf_recall=round(metrics.recall_score(y_test,Y_pred_rf,average='macro')*100,2)\n",
    "score_rf_f1_score=round(metrics.f1_score(y_test,Y_pred_rf,average='macro')*100,2)"
   ]
  },
  {
   "cell_type": "code",
   "execution_count": null,
   "id": "082d9fe6",
   "metadata": {},
   "outputs": [],
   "source": [
    "import pickle\n",
    "with open('model_rf_RF_newest.sav','wb') as f:\n",
    "    pickle.dump(rfc,f)"
   ]
  },
  {
   "cell_type": "code",
   "execution_count": null,
   "id": "32386fb3",
   "metadata": {},
   "outputs": [],
   "source": [
    "ada = AdaBoostClassifier(DecisionTreeClassifier(max_depth=9),n_estimators=150)\n",
    "ada.fit(x_train, y_train)\n",
    "\n",
    "ada.score(x_test,y_test)\n",
    "predictions = ada.predict(x_test)"
   ]
  },
  {
   "cell_type": "code",
   "execution_count": null,
   "id": "3f2390d5",
   "metadata": {},
   "outputs": [],
   "source": [
    "score_ada = round(accuracy_score(predictions,y_test)*100,2)\n",
    "\n",
    "print(\"The accuracy score achieved using Ada Boost is: \"+str(score_ada)+\" %\")"
   ]
  },
  {
   "cell_type": "code",
   "execution_count": null,
   "id": "90b8c9ce",
   "metadata": {},
   "outputs": [],
   "source": [
    "lr_cm=confusion_matrix(y_test,predictions)\n",
    "plt.title(\"ADA Boost\")\n",
    "sns.heatmap(lr_cm,annot=True,cmap=\"Blues\",fmt=\"d\",cbar=False)"
   ]
  },
  {
   "cell_type": "code",
   "execution_count": null,
   "id": "93023387",
   "metadata": {},
   "outputs": [],
   "source": [
    "from sklearn import metrics\n",
    "score_ada=round(metrics.accuracy_score(y_test,predictions)*100,2)\n",
    "score_ada_precision=metrics.precision_score(predictions,y_test,average='macro')\n",
    "score_ada_recall=round(metrics.recall_score(y_test,predictions,average='macro')*100,2)\n",
    "score_ada_f1_score=round(metrics.f1_score(y_test,predictions,average='macro')*100,2)"
   ]
  },
  {
   "cell_type": "code",
   "execution_count": null,
   "id": "4dd225a8",
   "metadata": {},
   "outputs": [],
   "source": [
    "import pickle\n",
    "with open('model_fer_ADA_newest.sav','wb') as f:\n",
    "    pickle.dump(ada,f)"
   ]
  },
  {
   "cell_type": "code",
   "execution_count": null,
   "id": "42a8b600",
   "metadata": {},
   "outputs": [],
   "source": [
    "import tensorflow as tf\n",
    "from tensorflow import keras\n",
    "from tensorflow.keras.models import Sequential\n",
    "import tensorflow as tf\n",
    "from tensorflow import keras\n",
    "model=tf.keras.Sequential([\n",
    "    keras.layers.Dense(20,input_shape=x_train.shape[1:],activation='relu'),\n",
    "    keras.layers.Dense(10,activation='relu'),\n",
    "    keras.layers.Dense(7,activation='sigmoid'),\n",
    "])"
   ]
  },
  {
   "cell_type": "code",
   "execution_count": null,
   "id": "08935029",
   "metadata": {},
   "outputs": [],
   "source": [
    "model.compile(optimizer='adam',loss='sparse_categorical_crossentropy',metrics=['accuracy'])"
   ]
  },
  {
   "cell_type": "code",
   "execution_count": null,
   "id": "a0850011",
   "metadata": {},
   "outputs": [],
   "source": [
    "model.fit(x_train,y_train,epochs=100)"
   ]
  },
  {
   "cell_type": "code",
   "execution_count": null,
   "id": "182a46ce",
   "metadata": {},
   "outputs": [],
   "source": [
    "model.evaluate(x_test,y_test)"
   ]
  },
  {
   "cell_type": "code",
   "execution_count": null,
   "id": "540e8f13",
   "metadata": {},
   "outputs": [],
   "source": [
    "pred=model.predict(x_test)"
   ]
  },
  {
   "cell_type": "code",
   "execution_count": null,
   "id": "a3fdd044",
   "metadata": {},
   "outputs": [],
   "source": [
    "pred=np.argmax(pred, axis=1)"
   ]
  },
  {
   "cell_type": "code",
   "execution_count": null,
   "id": "32716dfa",
   "metadata": {},
   "outputs": [],
   "source": [
    "pred"
   ]
  },
  {
   "cell_type": "code",
   "execution_count": null,
   "id": "4659579b",
   "metadata": {},
   "outputs": [],
   "source": [
    "y_test"
   ]
  },
  {
   "cell_type": "code",
   "execution_count": null,
   "id": "aa76dd30",
   "metadata": {},
   "outputs": [],
   "source": [
    "import pandas as pd\n",
    "# Crop Type Nitrogen Potassium Phosphorous Fertilizer Name Fertilizer_Name Crop_Type\n",
    "#  Maize      37        0          0             Urea          6             3\n",
    "# Sugarcane   12        0         36             DAP           5             8\n",
    "\n",
    "dff = pd.read_csv(\"process_fer.csv\")\n",
    "\n",
    "'Crop_Type','Nitrogen','Potassium','Phosphorous'\n",
    "\n",
    "dict = {'Crop-type':8,\n",
    "        'Nitrogen':12,\n",
    "        'Potassium':0,\n",
    "        'Phosphorous':36,\n",
    "        'Fertilizer_Name':6}\n",
    "dff1=pd.DataFrame(dict,index=[0])"
   ]
  },
  {
   "cell_type": "code",
   "execution_count": null,
   "id": "50c0a1a1",
   "metadata": {},
   "outputs": [],
   "source": [
    "dff.head()"
   ]
  },
  {
   "cell_type": "code",
   "execution_count": null,
   "id": "c5c9ea39",
   "metadata": {},
   "outputs": [],
   "source": [
    "a = dff[dff['Crop Type']==\"Maize\"]\n",
    "a = a[['Crop Type','Crop_Type']]\n",
    "a = a['Crop_Type'].unique()\n",
    "a[0]"
   ]
  },
  {
   "cell_type": "code",
   "execution_count": null,
   "id": "f63bfa63",
   "metadata": {},
   "outputs": [],
   "source": []
  },
  {
   "cell_type": "code",
   "execution_count": null,
   "id": "cd1a1a9b",
   "metadata": {},
   "outputs": [],
   "source": []
  },
  {
   "cell_type": "code",
   "execution_count": null,
   "id": "215ae25b",
   "metadata": {},
   "outputs": [],
   "source": [
    "dff[\"Fertilizer Name\"].unique()"
   ]
  },
  {
   "cell_type": "code",
   "execution_count": null,
   "id": "e984b0fe",
   "metadata": {},
   "outputs": [],
   "source": [
    "filename8='model_fer_ADA_newest.sav'\n",
    "loaded_model7=  pickle.load(open(filename8, 'rb'))"
   ]
  },
  {
   "cell_type": "code",
   "execution_count": null,
   "id": "5b98a74c",
   "metadata": {
    "scrolled": true
   },
   "outputs": [],
   "source": []
  },
  {
   "cell_type": "code",
   "execution_count": null,
   "id": "7aeabf39",
   "metadata": {},
   "outputs": [],
   "source": [
    "fer_lst = ['10-26-26','14-35-14', '17-17-17', '20-20', '28-28', 'DAP', 'Urea']\n",
    "# fer_lst = ['Urea', 'DAP', '14-35-14', '28-28', '17-17-17', '20-20','10-26-26']\n",
    "pred_adb=loaded_model7.predict([[8,12,0,36]])\n",
    "print(\"printing pred_adb\")\n",
    "print(pred_adb)\n",
    "adb_output=pred_adb\n",
    "print(\"printing adb_output\")\n",
    "print(adb_output)\n",
    "op = fer_lst[int(adb_output)]\n",
    "print(\"printing op\")\n",
    "print(op)\n",
    "# flash(\"Recommended Fertilizer for crop is: \"+str(op))"
   ]
  },
  {
   "cell_type": "code",
   "execution_count": null,
   "id": "9166b8e8",
   "metadata": {},
   "outputs": [],
   "source": []
  },
  {
   "cell_type": "code",
   "execution_count": null,
   "id": "42dfc12f",
   "metadata": {},
   "outputs": [],
   "source": []
  },
  {
   "cell_type": "code",
   "execution_count": null,
   "id": "475fdd14",
   "metadata": {},
   "outputs": [],
   "source": []
  },
  {
   "cell_type": "code",
   "execution_count": null,
   "id": "29a88296",
   "metadata": {},
   "outputs": [],
   "source": []
  }
 ],
 "metadata": {
  "kernelspec": {
   "display_name": "Python 3 (ipykernel)",
   "language": "python",
   "name": "python3"
  },
  "language_info": {
   "codemirror_mode": {
    "name": "ipython",
    "version": 3
   },
   "file_extension": ".py",
   "mimetype": "text/x-python",
   "name": "python",
   "nbconvert_exporter": "python",
   "pygments_lexer": "ipython3",
   "version": "3.8.12"
  }
 },
 "nbformat": 4,
 "nbformat_minor": 5
}
