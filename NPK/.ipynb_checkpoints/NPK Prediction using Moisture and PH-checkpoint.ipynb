{
 "cells": [
  {
   "cell_type": "code",
   "execution_count": null,
   "id": "05ae3b9f",
   "metadata": {},
   "outputs": [],
   "source": [
    "from sklearn.ensemble import AdaBoostClassifier \n",
    "from sklearn.tree import DecisionTreeClassifier\n",
    "import pandas as pd\n",
    "from sklearn.ensemble import AdaBoostClassifier\n",
    "from sklearn.tree import DecisionTreeClassifier\n",
    "from sklearn import metrics\n",
    "from sklearn.tree import DecisionTreeClassifier\n",
    "from sklearn.model_selection import train_test_split\n",
    "from sklearn.metrics import roc_curve,roc_auc_score,f1_score\n",
    "from sklearn.ensemble import RandomForestClassifier\n",
    "from sklearn.metrics import confusion_matrix\n",
    "from sklearn.metrics import accuracy_score\n",
    "from sklearn.metrics import roc_curve\n",
    "from sklearn.metrics import f1_score\n",
    "from sklearn.metrics import precision_score,recall_score\n",
    "from sklearn.metrics import roc_auc_score,roc_curve\n",
    "import pandas as pd\n",
    "import numpy as np\n",
    "from sklearn.model_selection import train_test_split\n",
    "from sklearn.metrics import confusion_matrix\n",
    "import pickle\n",
    "from sklearn.preprocessing import LabelEncoder"
   ]
  },
  {
   "cell_type": "code",
   "execution_count": null,
   "id": "d70f8299",
   "metadata": {},
   "outputs": [],
   "source": [
    "ferti=pd.read_csv(\"FertilizerPrediction.csv\",encoding ='latin1')\n",
    "ferti.head(1)"
   ]
  },
  {
   "cell_type": "code",
   "execution_count": null,
   "id": "9d5fbf25",
   "metadata": {},
   "outputs": [],
   "source": [
    "import random\n",
    "lst=[]\n",
    "for i in range(101):\n",
    "    n=random.randint(2,11)\n",
    "    lst.append(n)"
   ]
  },
  {
   "cell_type": "code",
   "execution_count": null,
   "id": "57bb67bf",
   "metadata": {},
   "outputs": [],
   "source": [
    "df1=pd.DataFrame(lst,columns=['ph-value'])"
   ]
  },
  {
   "cell_type": "code",
   "execution_count": null,
   "id": "a368fbc7",
   "metadata": {},
   "outputs": [],
   "source": [
    "new_df=ferti.join(df1)\n",
    "new_df"
   ]
  },
  {
   "cell_type": "code",
   "execution_count": null,
   "id": "c6d51a3b",
   "metadata": {},
   "outputs": [],
   "source": [
    "df=new_df[['Moisture','ph-value','Nitrogen','Potassium','Phosphorous']]\n",
    "df"
   ]
  },
  {
   "cell_type": "code",
   "execution_count": null,
   "id": "8dd17055",
   "metadata": {},
   "outputs": [],
   "source": [
    "df.to_csv(\"MoisturePHdataset.csv\")"
   ]
  },
  {
   "cell_type": "code",
   "execution_count": null,
   "id": "e3ef8825",
   "metadata": {},
   "outputs": [],
   "source": [
    "data=np.asarray(df)\n",
    "x=data[:,0:2]\n",
    "y=data[:,2:3]\n",
    "y1=data[:,3:4]\n",
    "y2=data[:,4:5]"
   ]
  },
  {
   "cell_type": "code",
   "execution_count": null,
   "id": "4f863f8d",
   "metadata": {},
   "outputs": [],
   "source": [
    "x[0]"
   ]
  },
  {
   "cell_type": "code",
   "execution_count": null,
   "id": "f7760939",
   "metadata": {},
   "outputs": [],
   "source": [
    "y[0]"
   ]
  },
  {
   "cell_type": "code",
   "execution_count": null,
   "id": "29109424",
   "metadata": {},
   "outputs": [],
   "source": [
    "y1[0]"
   ]
  },
  {
   "cell_type": "code",
   "execution_count": null,
   "id": "09879871",
   "metadata": {},
   "outputs": [],
   "source": [
    "y2[1]"
   ]
  },
  {
   "cell_type": "code",
   "execution_count": null,
   "id": "c89ff798",
   "metadata": {},
   "outputs": [],
   "source": [
    "y=y.astype('int')\n",
    "y1=y1.astype('int')\n",
    "y2=y2.astype('int')"
   ]
  },
  {
   "cell_type": "code",
   "execution_count": null,
   "id": "51a34011",
   "metadata": {},
   "outputs": [],
   "source": [
    "ada = AdaBoostClassifier(DecisionTreeClassifier(max_depth=9),n_estimators=150)\n",
    "ada1 = AdaBoostClassifier(DecisionTreeClassifier(max_depth=9),n_estimators=150)\n",
    "ada2 = AdaBoostClassifier(DecisionTreeClassifier(max_depth=9),n_estimators=150)"
   ]
  },
  {
   "cell_type": "code",
   "execution_count": null,
   "id": "fec5ce99",
   "metadata": {},
   "outputs": [],
   "source": [
    "ada.fit(x, y)\n",
    "ada1.fit(x, y1)\n",
    "ada2.fit(x, y2)"
   ]
  },
  {
   "cell_type": "code",
   "execution_count": null,
   "id": "3f8bdf09",
   "metadata": {},
   "outputs": [],
   "source": []
  },
  {
   "cell_type": "code",
   "execution_count": null,
   "id": "f9221b45",
   "metadata": {},
   "outputs": [],
   "source": []
  },
  {
   "cell_type": "code",
   "execution_count": null,
   "id": "efc97913",
   "metadata": {},
   "outputs": [],
   "source": []
  },
  {
   "cell_type": "code",
   "execution_count": null,
   "id": "28934f14",
   "metadata": {},
   "outputs": [],
   "source": []
  },
  {
   "cell_type": "code",
   "execution_count": null,
   "id": "d1939f09",
   "metadata": {},
   "outputs": [],
   "source": [
    "import pickle\n",
    "with open('model_nitrogen_moisture_ph_ada.sav','wb') as f:\n",
    "    pickle.dump(ada,f)"
   ]
  },
  {
   "cell_type": "code",
   "execution_count": null,
   "id": "c590296d",
   "metadata": {},
   "outputs": [],
   "source": [
    "import pickle\n",
    "with open('model_Potassium_moisture_ph_ada.sav','wb') as f:\n",
    "    pickle.dump(ada1,f)"
   ]
  },
  {
   "cell_type": "code",
   "execution_count": null,
   "id": "3532373e",
   "metadata": {},
   "outputs": [],
   "source": [
    "import pickle\n",
    "with open('model_Phosphorous_moisture_ph_ada.sav','wb') as f:\n",
    "    pickle.dump(ada2,f)"
   ]
  },
  {
   "cell_type": "code",
   "execution_count": null,
   "id": "88c52813",
   "metadata": {},
   "outputs": [],
   "source": [
    "import pandas as pd\n",
    "dict = {'Moisture':float(input(\"Enter Moisture:\")),\n",
    "        'Ph value':float(input(\"Enter Ph-Value:\"))}\n",
    "dff=pd.DataFrame(dict,index=[0])"
   ]
  },
  {
   "cell_type": "code",
   "execution_count": null,
   "id": "320daa1b",
   "metadata": {},
   "outputs": [],
   "source": [
    "dff"
   ]
  },
  {
   "cell_type": "code",
   "execution_count": null,
   "id": "846944c2",
   "metadata": {},
   "outputs": [],
   "source": [
    "with open('model_nitrogen_moisture_ph_ada.sav','rb') as f:\n",
    "    ts=pickle.load(f)\n",
    "led=ts.predict(dff)\n",
    "nitrogen=led[0]\n",
    "print(\"Nitrogen is \",nitrogen)\n",
    "import pickle\n",
    "with open('model_Potassium_moisture_ph_ada.sav','rb') as f:\n",
    "    ss=pickle.load(f)\n",
    "d=ss.predict(dff)\n",
    "potassium=d[0]\n",
    "print(\"Potassium is\",potassium)\n",
    "with open('model_Phosphorous_moisture_ph_ada.sav','rb') as f:\n",
    "    st=pickle.load(f)\n",
    "ed=st.predict(dff)\n",
    "phosphorous=ed[0]\n",
    "print(\"Phosphorous is\",phosphorous)"
   ]
  },
  {
   "cell_type": "code",
   "execution_count": null,
   "id": "1817b9c2",
   "metadata": {},
   "outputs": [],
   "source": [
    "import pandas as pd\n",
    "croptobe=pd.read_csv(\"Crop_recommendation.csv\",encoding ='latin1')\n",
    "from sklearn import preprocessing\n",
    "import numpy as np\n",
    "croptobe.head()"
   ]
  },
  {
   "cell_type": "code",
   "execution_count": null,
   "id": "32991b9c",
   "metadata": {},
   "outputs": [],
   "source": [
    "le = preprocessing.LabelEncoder()\n",
    "croptobe['label']=le.fit_transform(croptobe['label'])"
   ]
  },
  {
   "cell_type": "code",
   "execution_count": null,
   "id": "9a759ee9",
   "metadata": {},
   "outputs": [],
   "source": [
    "import random\n",
    "lst=[]\n",
    "for i in range(2201):\n",
    "    n = random.randint(25,65)\n",
    "    lst.append(n)\n",
    "dff=pd.DataFrame(lst,columns=['Moisture'])"
   ]
  },
  {
   "cell_type": "code",
   "execution_count": null,
   "id": "18d0891f",
   "metadata": {},
   "outputs": [],
   "source": [
    "new_df=croptobe.join(dff)"
   ]
  },
  {
   "cell_type": "code",
   "execution_count": null,
   "id": "8e8003b2",
   "metadata": {},
   "outputs": [],
   "source": [
    "dff_new=new_df[['N','P','K','ph','Moisture','label']]"
   ]
  },
  {
   "cell_type": "code",
   "execution_count": null,
   "id": "928320df",
   "metadata": {},
   "outputs": [],
   "source": [
    "x=dff_new.drop(['label'],axis=1)#independent\n",
    "y=dff_new['label']#dependent"
   ]
  },
  {
   "cell_type": "code",
   "execution_count": null,
   "id": "150ddaa5",
   "metadata": {},
   "outputs": [],
   "source": [
    "x_train,x_test , y_train, y_test = train_test_split(x, y,test_size=0.3)"
   ]
  },
  {
   "cell_type": "markdown",
   "id": "8fa815ae",
   "metadata": {},
   "source": [
    "# Logistic Regression"
   ]
  },
  {
   "cell_type": "code",
   "execution_count": null,
   "id": "3ef1ad22",
   "metadata": {
    "scrolled": true
   },
   "outputs": [],
   "source": [
    "from sklearn.linear_model import LogisticRegression\n",
    "\n",
    "lr = LogisticRegression()\n",
    "\n",
    "\n",
    "lr.fit(x_train,y_train)#train model\n",
    "\n",
    "Y_pred_lr = lr.predict(x_test)"
   ]
  },
  {
   "cell_type": "code",
   "execution_count": null,
   "id": "6bdbdb5c",
   "metadata": {},
   "outputs": [],
   "source": [
    "score_lr = round(accuracy_score(Y_pred_lr,y_test)*100,2)\n",
    "\n",
    "print(\"The accuracy score achieved using Logistic Regression is: \"+str(score_lr)+\" %\")"
   ]
  },
  {
   "cell_type": "code",
   "execution_count": null,
   "id": "c7b6edf3",
   "metadata": {},
   "outputs": [],
   "source": [
    "import matplotlib.pyplot as plt\n",
    "import seaborn as sns\n",
    "lr_cm=confusion_matrix(y_test,Y_pred_lr)\n",
    "plt.title(\"Logistic_Regression\")\n",
    "sns.heatmap(lr_cm,annot=True,cmap=\"Blues\",fmt=\"d\",cbar=False)"
   ]
  },
  {
   "cell_type": "code",
   "execution_count": null,
   "id": "5fe2a6c6",
   "metadata": {},
   "outputs": [],
   "source": [
    "from sklearn import metrics\n",
    "score_lr=round(metrics.accuracy_score(y_test,Y_pred_lr)*100,2)\n",
    "score_lr_precision=metrics.precision_score(Y_pred_lr,y_test,average='macro')\n",
    "score_lr_recall=round(metrics.recall_score(y_test,Y_pred_lr,average='macro')*100,2)\n",
    "score_lr_f1_score=round(metrics.f1_score(y_test, Y_pred_lr,average='macro')*100,2)"
   ]
  },
  {
   "cell_type": "code",
   "execution_count": null,
   "id": "90add692",
   "metadata": {},
   "outputs": [],
   "source": [
    "import pickle\n",
    "with open('model_MPH_LR_newest.sav','wb') as f:\n",
    "    pickle.dump(lr,f)"
   ]
  },
  {
   "cell_type": "markdown",
   "id": "46ab5aac",
   "metadata": {},
   "source": [
    "# SVM Linear "
   ]
  },
  {
   "cell_type": "code",
   "execution_count": null,
   "id": "b43f4db8",
   "metadata": {},
   "outputs": [],
   "source": [
    "from sklearn import svm\n",
    "\n",
    "sv = svm.SVC(kernel='linear')\n",
    "\n",
    "sv.fit(x_train, y_train)\n",
    "\n",
    "Y_pred_svm = sv.predict(x_test)\n",
    "score_svm = round(accuracy_score(Y_pred_svm,y_test)*100,2)\n",
    "\n",
    "print(\"The accuracy score achieved using Linear SVM is: \"+str(score_svm)+\" %\")"
   ]
  },
  {
   "cell_type": "code",
   "execution_count": null,
   "id": "4a6f28f0",
   "metadata": {},
   "outputs": [],
   "source": [
    "lr_cm=confusion_matrix(y_test,Y_pred_svm)\n",
    "plt.title(\"SVM\")\n",
    "sns.heatmap(lr_cm,annot=True,cmap=\"Blues\",fmt=\"d\",cbar=False)"
   ]
  },
  {
   "cell_type": "code",
   "execution_count": null,
   "id": "d210112e",
   "metadata": {},
   "outputs": [],
   "source": [
    "from sklearn import metrics\n",
    "score_svm=round(metrics.accuracy_score(y_test,Y_pred_svm)*100,2)\n",
    "score_svm_precision=metrics.precision_score(Y_pred_svm,y_test,average='macro')\n",
    "score_svm_recall=round(metrics.recall_score(y_test,Y_pred_svm,average='macro')*100,2)\n",
    "score_svm_f1_score=round(metrics.f1_score(y_test,Y_pred_svm,average='macro')*100,2)"
   ]
  },
  {
   "cell_type": "code",
   "execution_count": null,
   "id": "5af7ff1f",
   "metadata": {},
   "outputs": [],
   "source": [
    "import pickle\n",
    "with open('model_MPH_SVM_newest.sav','wb') as f:\n",
    "    pickle.dump(sv,f)"
   ]
  },
  {
   "cell_type": "markdown",
   "id": "0da96c92",
   "metadata": {},
   "source": [
    "# Naive Bayes "
   ]
  },
  {
   "cell_type": "code",
   "execution_count": null,
   "id": "d5b8c09d",
   "metadata": {},
   "outputs": [],
   "source": [
    "from sklearn.naive_bayes import GaussianNB\n",
    "\n",
    "nb = GaussianNB()\n",
    "\n",
    "nb.fit(x_train,y_train)\n",
    "\n",
    "Y_pred_nb = nb.predict(x_test)"
   ]
  },
  {
   "cell_type": "code",
   "execution_count": null,
   "id": "f9b60b66",
   "metadata": {},
   "outputs": [],
   "source": [
    "score_nb = round(accuracy_score(Y_pred_nb,y_test)*100,2)\n",
    "\n",
    "print(\"The accuracy score achieved using Naive Bayes is: \"+str(score_nb)+\" %\")"
   ]
  },
  {
   "cell_type": "code",
   "execution_count": null,
   "id": "130dba8b",
   "metadata": {},
   "outputs": [],
   "source": [
    "lr_cm=confusion_matrix(y_test,Y_pred_nb)\n",
    "plt.title(\"Naive Bayes\")\n",
    "sns.heatmap(lr_cm,annot=True,cmap=\"Blues\",fmt=\"d\",cbar=False)"
   ]
  },
  {
   "cell_type": "code",
   "execution_count": null,
   "id": "c38fdb5e",
   "metadata": {},
   "outputs": [],
   "source": [
    "from sklearn import metrics\n",
    "score_nb=round(metrics.accuracy_score(y_test,Y_pred_nb)*100,2)\n",
    "score_nb_precision=metrics.precision_score(Y_pred_nb,y_test,average='macro')\n",
    "score_nb_recall=round(metrics.recall_score(y_test,Y_pred_nb,average='macro')*100,2)\n",
    "score_nb_f1_score=round(metrics.f1_score(y_test,Y_pred_nb,average='macro')*100,2)"
   ]
  },
  {
   "cell_type": "code",
   "execution_count": null,
   "id": "c4f0ac46",
   "metadata": {},
   "outputs": [],
   "source": [
    "import pickle\n",
    "with open('model_MPH_NB_newest.sav','wb') as f:\n",
    "    pickle.dump(nb,f)"
   ]
  },
  {
   "cell_type": "markdown",
   "id": "6e3f58ce",
   "metadata": {},
   "source": [
    "# Decision Tree"
   ]
  },
  {
   "cell_type": "code",
   "execution_count": null,
   "id": "ff445fa1",
   "metadata": {},
   "outputs": [],
   "source": [
    "dt=DecisionTreeClassifier()\n",
    "dt.fit(x_train,y_train)\n",
    "Y_pred_dt = dt.predict(x_test)\n",
    "score_dt = round(accuracy_score(Y_pred_dt,y_test)*100,2)\n",
    "\n",
    "print(\"The accuracy score achieved using Decision Tree is: \"+str(score_dt)+\" %\")"
   ]
  },
  {
   "cell_type": "code",
   "execution_count": null,
   "id": "b33b0993",
   "metadata": {},
   "outputs": [],
   "source": [
    "lr_cm=confusion_matrix(y_test,Y_pred_dt)\n",
    "plt.title(\"Decision Tree\")\n",
    "sns.heatmap(lr_cm,annot=True,cmap=\"Blues\",fmt=\"d\",cbar=False)"
   ]
  },
  {
   "cell_type": "code",
   "execution_count": null,
   "id": "7144c78e",
   "metadata": {},
   "outputs": [],
   "source": [
    "from sklearn import metrics\n",
    "score_dt=round(metrics.accuracy_score(y_test,Y_pred_dt)*100,2)\n",
    "score_dt_precision=metrics.precision_score(Y_pred_dt,y_test,average='macro')\n",
    "score_dt_recall=round(metrics.recall_score(y_test,Y_pred_dt,average='macro')*100,2)\n",
    "score_dt_f1_score=round(metrics.f1_score(y_test,Y_pred_dt,average='macro')*100,2)"
   ]
  },
  {
   "cell_type": "code",
   "execution_count": null,
   "id": "35c20360",
   "metadata": {},
   "outputs": [],
   "source": [
    "import pickle\n",
    "with open('model_MPH_DT_newest.sav','wb') as f:\n",
    "    pickle.dump(dt,f)"
   ]
  },
  {
   "cell_type": "markdown",
   "id": "03339171",
   "metadata": {},
   "source": [
    "# Random Forest"
   ]
  },
  {
   "cell_type": "code",
   "execution_count": null,
   "id": "6c5645d7",
   "metadata": {},
   "outputs": [],
   "source": [
    "rfc=RandomForestClassifier(n_estimators=10,n_jobs=2,verbose=2)\n",
    "rfc.fit(x_train,y_train)\n",
    "score_rf=rfc.score(x_test,y_test)\n",
    "Y_pred_rf = rfc.predict(x_test)\n",
    "score_rf=round(accuracy_score(Y_pred_rf,y_test)*100,2)"
   ]
  },
  {
   "cell_type": "code",
   "execution_count": null,
   "id": "0c07884b",
   "metadata": {},
   "outputs": [],
   "source": [
    "print(\"The accuracy score achieved using Random Forest is: \"+str(score_rf)+\" %\")"
   ]
  },
  {
   "cell_type": "code",
   "execution_count": null,
   "id": "80d3ef68",
   "metadata": {},
   "outputs": [],
   "source": [
    "lr_cm=confusion_matrix(y_test,Y_pred_dt)\n",
    "plt.title(\"Random Forest\")\n",
    "sns.heatmap(lr_cm,annot=True,cmap=\"Blues\",fmt=\"d\",cbar=False)"
   ]
  },
  {
   "cell_type": "code",
   "execution_count": null,
   "id": "eb6f39bf",
   "metadata": {},
   "outputs": [],
   "source": [
    "from sklearn import metrics\n",
    "score_rf=round(metrics.accuracy_score(y_test,Y_pred_rf)*100,2)\n",
    "score_rf_precision=metrics.precision_score(Y_pred_rf,y_test,average='macro')\n",
    "score_rf_recall=round(metrics.recall_score(y_test,Y_pred_rf,average='macro')*100,2)\n",
    "score_rf_f1_score=round(metrics.f1_score(y_test,Y_pred_rf,average='macro')*100,2)"
   ]
  },
  {
   "cell_type": "code",
   "execution_count": null,
   "id": "fa82d1bf",
   "metadata": {},
   "outputs": [],
   "source": [
    "import pickle\n",
    "with open('model_MPH_RF_newest.sav','wb') as f:\n",
    "    pickle.dump(rfc,f)"
   ]
  },
  {
   "cell_type": "markdown",
   "id": "aabd7a88",
   "metadata": {},
   "source": [
    "# ADA Boost"
   ]
  },
  {
   "cell_type": "code",
   "execution_count": null,
   "id": "2558cf8d",
   "metadata": {},
   "outputs": [],
   "source": [
    "ada = AdaBoostClassifier(DecisionTreeClassifier(max_depth=9),n_estimators=150)\n",
    "ada.fit(x_train, y_train)\n",
    "\n",
    "ada.score(x_test,y_test)\n",
    "predictions = ada.predict(x_test)"
   ]
  },
  {
   "cell_type": "code",
   "execution_count": null,
   "id": "04a49626",
   "metadata": {},
   "outputs": [],
   "source": [
    "score_ada = round(accuracy_score(predictions,y_test)*100,2)\n",
    "\n",
    "print(\"The accuracy score achieved using Ada Boost is: \"+str(score_ada)+\" %\")"
   ]
  },
  {
   "cell_type": "code",
   "execution_count": null,
   "id": "21c3703f",
   "metadata": {},
   "outputs": [],
   "source": [
    "lr_cm=confusion_matrix(y_test,predictions)\n",
    "plt.title(\"ADA Boost\")\n",
    "sns.heatmap(lr_cm,annot=True,cmap=\"Blues\",fmt=\"d\",cbar=False)"
   ]
  },
  {
   "cell_type": "code",
   "execution_count": null,
   "id": "7fb1b605",
   "metadata": {},
   "outputs": [],
   "source": [
    "from sklearn import metrics\n",
    "score_ada=round(metrics.accuracy_score(y_test,predictions)*100,2)\n",
    "score_ada_precision=metrics.precision_score(predictions,y_test,average='macro')\n",
    "score_ada_recall=round(metrics.recall_score(y_test,predictions,average='macro')*100,2)\n",
    "score_ada_f1_score=round(metrics.f1_score(y_test,predictions,average='macro')*100,2)"
   ]
  },
  {
   "cell_type": "code",
   "execution_count": null,
   "id": "ef95e4d4",
   "metadata": {},
   "outputs": [],
   "source": [
    "import pickle\n",
    "with open('model_MPH_ADA_newest.sav','wb') as f:\n",
    "    pickle.dump(ada,f)"
   ]
  },
  {
   "cell_type": "markdown",
   "id": "8519d3df",
   "metadata": {},
   "source": [
    "# Neural Network"
   ]
  },
  {
   "cell_type": "code",
   "execution_count": null,
   "id": "8f6c1d19",
   "metadata": {},
   "outputs": [],
   "source": [
    "import tensorflow as tf\n",
    "from tensorflow import keras\n",
    "from tensorflow.keras.models import Sequential"
   ]
  },
  {
   "cell_type": "code",
   "execution_count": null,
   "id": "b3cb2d01",
   "metadata": {},
   "outputs": [],
   "source": [
    "import tensorflow as tf\n",
    "from tensorflow import keras\n",
    "model=tf.keras.Sequential([\n",
    "    keras.layers.Dense(20,input_shape=x_train.shape[1:],activation='relu'),\n",
    "    keras.layers.Dense(10,activation='relu'),\n",
    "    keras.layers.Dense(22,activation='sigmoid'),\n",
    "])"
   ]
  },
  {
   "cell_type": "code",
   "execution_count": null,
   "id": "3008bce6",
   "metadata": {},
   "outputs": [],
   "source": [
    "model.compile(optimizer='adam',loss='sparse_categorical_crossentropy',metrics=['accuracy'])"
   ]
  },
  {
   "cell_type": "code",
   "execution_count": null,
   "id": "292f2d87",
   "metadata": {},
   "outputs": [],
   "source": [
    "model.fit(x_train,y_train,epochs=100)"
   ]
  },
  {
   "cell_type": "code",
   "execution_count": null,
   "id": "f8dfb3b4",
   "metadata": {},
   "outputs": [],
   "source": [
    "model.evaluate(x_test,y_test)"
   ]
  },
  {
   "cell_type": "code",
   "execution_count": null,
   "id": "620da659",
   "metadata": {},
   "outputs": [],
   "source": [
    "pred=model.predict(x_test)"
   ]
  },
  {
   "cell_type": "code",
   "execution_count": null,
   "id": "6150f46f",
   "metadata": {
    "scrolled": true
   },
   "outputs": [],
   "source": [
    "# lr_cm=confusion_matrix(y_test,pred)\n",
    "# plt.title(\"Neural Network\")\n",
    "# sns.heatmap(lr_cm,annot=True,cmap=\"Blues\",fmt=\"d\",cbar=False)"
   ]
  },
  {
   "cell_type": "code",
   "execution_count": null,
   "id": "74bffd6b",
   "metadata": {},
   "outputs": [],
   "source": [
    "pred=np.argmax(pred, axis=1)"
   ]
  },
  {
   "cell_type": "code",
   "execution_count": null,
   "id": "c7d469de",
   "metadata": {},
   "outputs": [],
   "source": [
    "a=model.evaluate(x_test,y_test)"
   ]
  },
  {
   "cell_type": "code",
   "execution_count": null,
   "id": "fb0a021e",
   "metadata": {},
   "outputs": [],
   "source": [
    "a[1]"
   ]
  },
  {
   "cell_type": "code",
   "execution_count": null,
   "id": "408b21a9",
   "metadata": {},
   "outputs": [],
   "source": [
    "scores = [score_lr_precision,score_svm_precision,score_nb_precision,score_dt_precision,score_rf_precision,score_ada_precision]\n",
    "algorithms = [\"Logistic Regression\",\"Support Vector Machine\",\"Naive Bayes\",\"Decision Tree\",\"Random Forest\",\"Ada Boost\"]    \n",
    "\n",
    "\n",
    "for i in range(len(algorithms)):\n",
    "    print(\"The Precision achieved using \"+algorithms[i]+\" is: \"+str(scores[i]))"
   ]
  },
  {
   "cell_type": "code",
   "execution_count": null,
   "id": "074eb87d",
   "metadata": {},
   "outputs": [],
   "source": [
    "sns.set(rc={'figure.figsize':(15,8)})\n",
    "plt.xlabel(\"Algorithms\")\n",
    "plt.ylabel(\"Precision\")\n",
    "\n",
    "sns.barplot(algorithms,scores)\n",
    "plt.show()"
   ]
  },
  {
   "cell_type": "code",
   "execution_count": null,
   "id": "7eb15006",
   "metadata": {},
   "outputs": [],
   "source": [
    "scores = [score_lr_recall,score_svm_recall,score_nb_recall,score_dt_recall,score_rf_recall,score_ada_recall]\n",
    "algorithms = [\"Logistic Regression\",\"Support Vector Machine\",\"Naive Bayes\",\"Decision Tree\",\"Random Forest\",\"Ada Boost\"]    \n",
    "\n",
    "\n",
    "for i in range(len(algorithms)):\n",
    "    print(\"The Recall achieved using \"+algorithms[i]+\" is: \"+str(scores[i]))"
   ]
  },
  {
   "cell_type": "code",
   "execution_count": null,
   "id": "32ff7d48",
   "metadata": {},
   "outputs": [],
   "source": [
    "sns.set(rc={'figure.figsize':(15,8)})\n",
    "plt.xlabel(\"Algorithms\")\n",
    "plt.ylabel(\"Recall\")\n",
    "\n",
    "sns.barplot(algorithms,scores)\n",
    "plt.show()"
   ]
  },
  {
   "cell_type": "code",
   "execution_count": null,
   "id": "9bf99763",
   "metadata": {},
   "outputs": [],
   "source": [
    "scores = [score_lr_f1_score,score_svm_f1_score,score_nb_f1_score,score_dt_f1_score,score_rf_f1_score,score_ada_f1_score]\n",
    "algorithms = [\"Logistic Regression\",\"Support Vector Machine\",\"Naive Bayes\",\"Decision Tree\",\"Random Forest\",\"Ada Boost\"]    \n",
    "\n",
    "\n",
    "for i in range(len(algorithms)):\n",
    "    print(\"The F1 Score achieved using \"+algorithms[i]+\" is: \"+str(scores[i]))"
   ]
  },
  {
   "cell_type": "code",
   "execution_count": null,
   "id": "01f2b3d6",
   "metadata": {},
   "outputs": [],
   "source": [
    "sns.set(rc={'figure.figsize':(15,8)})\n",
    "plt.xlabel(\"Algorithms\")\n",
    "plt.ylabel(\"F1 Score\")\n",
    "\n",
    "sns.barplot(algorithms,scores)\n",
    "plt.show()"
   ]
  },
  {
   "cell_type": "code",
   "execution_count": null,
   "id": "cd888535",
   "metadata": {},
   "outputs": [],
   "source": [
    "scores = [score_lr,score_svm,score_nb,score_dt,score_rf,score_ada]\n",
    "algorithms = [\"Logistic Regression\",\"Support Vector Machine\",\"Naive Bayes\",\"Decision Tree\",\"Random Forest\",\"Ada Boost\"]    \n",
    "\n",
    "\n",
    "for i in range(len(algorithms)):\n",
    "    print(\"The Accuracy Score achieved using \"+algorithms[i]+\" is: \"+str(scores[i]))"
   ]
  },
  {
   "cell_type": "code",
   "execution_count": null,
   "id": "c772a5e5",
   "metadata": {},
   "outputs": [],
   "source": [
    "sns.set(rc={'figure.figsize':(15,8)})\n",
    "plt.xlabel(\"Algorithms\")\n",
    "plt.ylabel(\"Accuracy\")\n",
    "\n",
    "sns.barplot(algorithms,scores)\n",
    "plt.show()"
   ]
  },
  {
   "cell_type": "code",
   "execution_count": null,
   "id": "8d672500",
   "metadata": {},
   "outputs": [],
   "source": [
    "dff_new.loc[1023]"
   ]
  },
  {
   "cell_type": "code",
   "execution_count": null,
   "id": "da3d7aa1",
   "metadata": {
    "scrolled": true
   },
   "outputs": [],
   "source": [
    "pred"
   ]
  },
  {
   "cell_type": "code",
   "execution_count": null,
   "id": "7fcbaf61",
   "metadata": {},
   "outputs": [],
   "source": [
    "# import math\n",
    "# a=np.ceil((max(pred[3])*10))"
   ]
  },
  {
   "cell_type": "code",
   "execution_count": null,
   "id": "e711b0f8",
   "metadata": {},
   "outputs": [],
   "source": [
    "# le.inverse_transform([int(a)])"
   ]
  },
  {
   "cell_type": "code",
   "execution_count": null,
   "id": "5901d158",
   "metadata": {},
   "outputs": [],
   "source": [
    "model.save('Neural_Networks_MPH.hp5')"
   ]
  },
  {
   "cell_type": "code",
   "execution_count": null,
   "id": "0e8b9ef0",
   "metadata": {},
   "outputs": [],
   "source": [
    "import pandas as pd\n",
    "dict = {\n",
    "        'Moisture':float(input(\"Enter Moisture:\")),\n",
    "        'Ph value':float(input(\"Enter Ph-Value:\"))}\n",
    "dff=pd.DataFrame(dict,index=[0])"
   ]
  },
  {
   "cell_type": "code",
   "execution_count": null,
   "id": "34f1aa2e",
   "metadata": {},
   "outputs": [],
   "source": [
    "with open('model_nitrogen_moisture_ph_ada.sav','rb') as f:\n",
    "    ts=pickle.load(f)\n",
    "led=ts.predict(dff)\n",
    "nitrogen=led[0]\n",
    "print(\"Nitrogen is \",nitrogen)\n",
    "import pickle\n",
    "with open('model_Potassium_moisture_ph_ada.sav','rb') as f:\n",
    "    ss=pickle.load(f)\n",
    "d=ss.predict(dff)\n",
    "potassium=d[0]\n",
    "print(\"Potassium is\",potassium)\n",
    "with open('model_Phosphorous_moisture_ph_ada.sav','rb') as f:\n",
    "    st=pickle.load(f)\n",
    "ed=st.predict(dff)\n",
    "phosphorous=ed[0]\n",
    "print(\"Phosphorous is\",phosphorous)"
   ]
  },
  {
   "cell_type": "code",
   "execution_count": null,
   "id": "1abb1a9f",
   "metadata": {},
   "outputs": [],
   "source": [
    "with open('model_MPH_LR_newest.sav','rb') as f:\n",
    "    ts=pickle.load(f)\n",
    "led=ts.predict([[nitrogen,phosphorous,potassium,list(dff.loc[0])[0],list(dff.loc[0])[1]]])\n",
    "lr_output=led[0]\n",
    "print(\"Recommended Crop By Logidtic Regression \",le.inverse_transform([int(lr_output)]))"
   ]
  },
  {
   "cell_type": "code",
   "execution_count": null,
   "id": "c46ad1a8",
   "metadata": {},
   "outputs": [],
   "source": [
    "with open('model_MPH_NB_newest.sav','rb') as f:\n",
    "    ts=pickle.load(f)\n",
    "led=ts.predict([[nitrogen,phosphorous,potassium,list(dff.loc[0])[0],list(dff.loc[0])[1]]])\n",
    "lr_output=led[0]\n",
    "print(\"Recommended Crop By Naive Bayes \",le.inverse_transform([int(lr_output)]))"
   ]
  },
  {
   "cell_type": "code",
   "execution_count": null,
   "id": "7b3fca2b",
   "metadata": {},
   "outputs": [],
   "source": [
    "with open('model_MPH_DT_newest.sav','rb') as f:\n",
    "    ts=pickle.load(f)\n",
    "led=ts.predict([[nitrogen,phosphorous,potassium,list(dff.loc[0])[0],list(dff.loc[0])[1]]])\n",
    "lr_output=led[0]\n",
    "print(\"Recommended Crop By Decision Tree \",le.inverse_transform([int(lr_output)]))"
   ]
  },
  {
   "cell_type": "code",
   "execution_count": null,
   "id": "45caa8c7",
   "metadata": {},
   "outputs": [],
   "source": [
    "with open('model_MPH_SVM_newest.sav','rb') as f:\n",
    "    ts=pickle.load(f)\n",
    "led=ts.predict([[nitrogen,phosphorous,potassium,list(dff.loc[0])[0],list(dff.loc[0])[1]]])\n",
    "lr_output=led[0]\n",
    "print(\"Recommended Crop By SVM \",le.inverse_transform([int(lr_output)]))"
   ]
  },
  {
   "cell_type": "code",
   "execution_count": null,
   "id": "9f0e315b",
   "metadata": {},
   "outputs": [],
   "source": [
    "with open('model_MPH_RF_newest.sav','rb') as f:\n",
    "    ts=pickle.load(f)\n",
    "led=ts.predict([[nitrogen,phosphorous,potassium,list(dff.loc[0])[0],list(dff.loc[0])[1]]])\n",
    "lr_output=led[0]\n",
    "print(\"Recommended Crop By RF \",le.inverse_transform([int(lr_output)]))"
   ]
  },
  {
   "cell_type": "code",
   "execution_count": null,
   "id": "06d652e9",
   "metadata": {},
   "outputs": [],
   "source": [
    "with open('model_MPH_ADA_newest.sav','rb') as f:\n",
    "    ts=pickle.load(f)\n",
    "led=ts.predict([[nitrogen,phosphorous,potassium,list(dff.loc[0])[0],list(dff.loc[0])[1]]])\n",
    "lr_output=led[0]\n",
    "print(\"Recommended Crop By ADA \",le.inverse_transform([int(lr_output)]))"
   ]
  },
  {
   "cell_type": "code",
   "execution_count": null,
   "id": "64454009",
   "metadata": {},
   "outputs": [],
   "source": [
    "import tensorflow\n",
    "filename='Neural_Networks_MPH.hp5'\n",
    "loaded_model_nn = tensorflow.keras.models.load_model(filename)\n",
    "rf=loaded_model_nn.predict([[int(nitrogen),int(phosphorous),int(potassium),int(list(dff.loc[0])[0]),int(list(dff.loc[0])[1])]])\n",
    "print(\"Recommended Crop By NN \",le.inverse_transform([int(lr_output)]))"
   ]
  },
  {
   "cell_type": "code",
   "execution_count": null,
   "id": "e958acbe",
   "metadata": {},
   "outputs": [],
   "source": []
  },
  {
   "cell_type": "code",
   "execution_count": null,
   "id": "0f699cce",
   "metadata": {},
   "outputs": [],
   "source": []
  },
  {
   "cell_type": "code",
   "execution_count": null,
   "id": "78f87770",
   "metadata": {},
   "outputs": [],
   "source": []
  }
 ],
 "metadata": {
  "kernelspec": {
   "display_name": "Python 3 (ipykernel)",
   "language": "python",
   "name": "python3"
  },
  "language_info": {
   "codemirror_mode": {
    "name": "ipython",
    "version": 3
   },
   "file_extension": ".py",
   "mimetype": "text/x-python",
   "name": "python",
   "nbconvert_exporter": "python",
   "pygments_lexer": "ipython3",
   "version": "3.8.12"
  }
 },
 "nbformat": 4,
 "nbformat_minor": 5
}
